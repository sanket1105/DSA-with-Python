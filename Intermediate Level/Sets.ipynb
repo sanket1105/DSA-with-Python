{
 "cells": [
  {
   "cell_type": "markdown",
   "metadata": {},
   "source": [
    "## Sets\n",
    "\n",
    "A Set is an unordered collection data type that is unindexed, mutable, and has no duplicate elements. Sets are created with braces."
   ]
  },
  {
   "cell_type": "code",
   "execution_count": 14,
   "metadata": {},
   "outputs": [
    {
     "name": "stdout",
     "output_type": "stream",
     "text": [
      "{'Zanwar', 'Nanded', 'Sanket'}\n",
      "<class 'set'>\n",
      "{'Zanwar', 'Nanded', 'Sanket'}\n",
      "{'c', 'b', 'e', 'd', 'f', 'a'}\n"
     ]
    }
   ],
   "source": [
    "my_set = {'Sanket','Zanwar','Nanded'}\n",
    "print(my_set)\n",
    "\n",
    "print(type(my_set))\n",
    "\n",
    "my_set_2 = set(('Sanket','Zanwar','Nanded'))\n",
    "print(my_set_2)\n",
    "\n",
    "my_set_3 = set('aaaabbbccccddddeeefff')\n",
    "print(my_set_3)"
   ]
  },
  {
   "cell_type": "code",
   "execution_count": 15,
   "metadata": {},
   "outputs": [
    {
     "name": "stdout",
     "output_type": "stream",
     "text": [
      "<class 'dict'>\n",
      "<class 'set'>\n"
     ]
    }
   ],
   "source": [
    "my_set = {}  ## this is dictionary\n",
    "print(type(my_set))\n",
    "\n",
    "my_set = set()\n",
    "print(type(my_set))"
   ]
  },
  {
   "cell_type": "code",
   "execution_count": 16,
   "metadata": {},
   "outputs": [
    {
     "name": "stdout",
     "output_type": "stream",
     "text": [
      "{'Zanwar', 1, 'Sanket'}\n",
      "{'Zanwar', 1, 'Sanket'}\n"
     ]
    }
   ],
   "source": [
    "## Adding elements\n",
    "\n",
    "my_set = set()\n",
    "\n",
    "my_set.add(1)\n",
    "my_set.add(\"Sanket\")\n",
    "my_set.add(\"Zanwar\")\n",
    "print(my_set)\n",
    "\n",
    "\n",
    "## order doesn't matter while adding elements in the set\n",
    "\n",
    "my_set.add(\"Sanket\")  ## same element adding once again\n",
    "print(my_set)   ## no effect, no duplicates in the set"
   ]
  },
  {
   "cell_type": "markdown",
   "metadata": {},
   "source": []
  },
  {
   "cell_type": "markdown",
   "metadata": {},
   "source": [
    "## Removing Elements"
   ]
  },
  {
   "cell_type": "code",
   "execution_count": 1,
   "metadata": {},
   "outputs": [
    {
     "name": "stdout",
     "output_type": "stream",
     "text": [
      "{'Zanwar', 1}\n",
      "{1}\n",
      "set()\n",
      "{'nanded', 'Sanket'}\n"
     ]
    }
   ],
   "source": [
    "my_set = {'Zanwar', 1, 'Sanket'}\n",
    "my_set.remove(\"Sanket\")\n",
    "print(my_set)\n",
    "\n",
    "# my_set.remove(\"Nanded\")  ## Nanded not there, so error is coming\n",
    "# KeyError: 'Nanded'\n",
    "\n",
    "## so use discard instead of remove\n",
    "## discard does nothing if the element is not there in the set\n",
    "\n",
    "my_set.discard(\"Nanded\")  ## no error eventhough nanded is not there in set\n",
    "\n",
    "my_set.discard('Zanwar')  ## removed zanwar\n",
    "print(my_set) \n",
    "\n",
    "my_set.clear()  ## removed all the elements\n",
    "print(my_set)\n",
    "\n",
    "\n",
    "## since there is no proper order in which elements are added\n",
    "## so when you pop, any random element may get popped\n",
    "\n",
    "a = {\"Sanket\",\"Zanwar\",\"nanded\"}\n",
    "a.pop()\n",
    "print(a)\n"
   ]
  },
  {
   "cell_type": "markdown",
   "metadata": {},
   "source": [
    "## iterating over set"
   ]
  },
  {
   "cell_type": "code",
   "execution_count": 23,
   "metadata": {},
   "outputs": [
    {
     "name": "stdout",
     "output_type": "stream",
     "text": [
      "yes\n"
     ]
    }
   ],
   "source": [
    "a = {\"Sanket\",\"Zanwar\",\"nanded\"}\n",
    "\n",
    "if \"Sanket\" in a:\n",
    "    print(\"yes\")"
   ]
  },
  {
   "cell_type": "markdown",
   "metadata": {},
   "source": [
    "## union and intersection"
   ]
  },
  {
   "cell_type": "code",
   "execution_count": 25,
   "metadata": {},
   "outputs": [
    {
     "name": "stdout",
     "output_type": "stream",
     "text": [
      "{0, 1, 2, 3, 4, 5, 6, 7, 8, 9}\n",
      "set()\n",
      "{3, 5, 7}\n"
     ]
    }
   ],
   "source": [
    "odds = {1,3,5,7,9}\n",
    "evens = {0,2,4,6,8}\n",
    "primes = {2,3,5,7,11}\n",
    "\n",
    "u = odds.union(evens)  ## union\n",
    "print(u)\n",
    "\n",
    "i = odds.intersection(evens)  ## intersection\n",
    "print(i)\n",
    "\n",
    "i = odds.intersection(primes)\n",
    "print(i)"
   ]
  },
  {
   "cell_type": "markdown",
   "metadata": {},
   "source": [
    "## Difference of Sets"
   ]
  },
  {
   "cell_type": "code",
   "execution_count": 28,
   "metadata": {},
   "outputs": [
    {
     "name": "stdout",
     "output_type": "stream",
     "text": [
      "{8, 9, 6, 7}\n",
      "{10, 11, 12}\n",
      "{6, 7, 8, 9, 10, 11, 12}\n"
     ]
    }
   ],
   "source": [
    "setA = {1,2,3,4,5,6,7,8,9}\n",
    "setB = {1,2,3,4,5,10,11,12}\n",
    "\n",
    "## elements that are in A but not in B\n",
    "diff_set =setA.difference(setB)\n",
    "print(diff_set)\n",
    "\n",
    "## elements that are in B but not in A\n",
    "diff_set =setB.difference(setA)\n",
    "print(diff_set)\n",
    "\n",
    "\n",
    "## elements that are not present in both\n",
    "diff_set = setA.symmetric_difference(setB)\n",
    "print(diff_set)\n",
    "\n",
    "## a.symmetric_difference(b) == b.symmetric_difference(a) "
   ]
  },
  {
   "cell_type": "markdown",
   "metadata": {},
   "source": [
    "## Updating Sets\n",
    "same as adding two sets"
   ]
  },
  {
   "cell_type": "code",
   "execution_count": 36,
   "metadata": {},
   "outputs": [
    {
     "name": "stdout",
     "output_type": "stream",
     "text": [
      "{1, 2, 3, 4, 5, 6, 7, 8, 9, 10, 11, 12}\n",
      "{1, 2, 3}\n",
      "{4, 5, 6, 7, 8, 9}\n",
      "{4, 5, 6, 7, 8, 9, 10, 11, 12}\n",
      "{1, 2, 3, 4, 5, 6, 7, 8, 9, 66, 77, 55}\n",
      "{1, 2, 3, 4, 5, 6, 7, 8, 9, 100, 99, 55}\n"
     ]
    }
   ],
   "source": [
    "setA = {1,2,3,4,5,6,7,8,9}\n",
    "setB = {1,2,3,10,11,12}\n",
    "\n",
    "setA.update(setB)  ## add the elements of B to A\n",
    "print(setA)\n",
    "\n",
    "## Update the set by keeping only the elements found in both\n",
    "setA = {1,2,3,4,5,6,7,8,9}\n",
    "setA.intersection_update(setB)\n",
    "print(setA)\n",
    "\n",
    "# Update the set by removing elements found in another set.\n",
    "setA = {1,2,3,4,5,6,7,8,9}\n",
    "setA.difference_update(setB)\n",
    "print(setA)\n",
    "\n",
    "# Update the set by only keeping the elements found in either set, but not in both\n",
    "setA = {1, 2, 3, 4, 5, 6, 7, 8, 9}\n",
    "setA.symmetric_difference_update(setB)\n",
    "print(setA)\n",
    "\n",
    "\n",
    "## this method also workd withs list,tuples\n",
    "setA = {1, 2, 3, 4, 5, 6, 7, 8, 9}\n",
    "setA.update([55,66,77])\n",
    "print(setA)\n",
    "\n",
    "\n",
    "## this method also workd withs list,tuples\n",
    "setA = {1, 2, 3, 4, 5, 6, 7, 8, 9}\n",
    "setA.update((100,55,99))\n",
    "print(setA)\n",
    "\n"
   ]
  },
  {
   "cell_type": "code",
   "execution_count": 12,
   "metadata": {},
   "outputs": [
    {
     "name": "stdout",
     "output_type": "stream",
     "text": [
      "[1, 2, 3, {1, 2, 3}]\n"
     ]
    },
    {
     "data": {
      "text/plain": [
       "{1, 2, 3, 11, 22, 33}"
      ]
     },
     "execution_count": 12,
     "metadata": {},
     "output_type": "execute_result"
    }
   ],
   "source": [
    "a = [1,2,3]\n",
    "a.append({1,2,3})\n",
    "print(a)\n",
    "\n",
    "k = {1,2,3}\n",
    "b=[11,22,33]\n",
    "k.update(b)\n",
    "\n",
    "k"
   ]
  },
  {
   "cell_type": "markdown",
   "metadata": {},
   "source": [
    "## Copying"
   ]
  },
  {
   "cell_type": "code",
   "execution_count": 37,
   "metadata": {},
   "outputs": [
    {
     "name": "stdout",
     "output_type": "stream",
     "text": [
      "{1, 2, 3, 4, 5, 6, 7}\n",
      "{1, 2, 3, 4, 5, 6, 7}\n",
      "{1, 2, 3, 4, 5, 6, 7}\n",
      "{1, 2, 3, 4, 5}\n"
     ]
    }
   ],
   "source": [
    "set_org = {1, 2, 3, 4, 5}\n",
    "\n",
    "# this just copies the reference to the set, so be careful\n",
    "set_copy = set_org\n",
    "\n",
    "# now modifying the copy also affects the original\n",
    "set_copy.update([3, 4, 5, 6, 7])\n",
    "print(set_copy)\n",
    "print(set_org)\n",
    "\n",
    "# use copy() to actually copy the set\n",
    "set_org = {1, 2, 3, 4, 5}\n",
    "set_copy = set_org.copy()\n",
    "\n",
    "# now modifying the copy does not affect the original\n",
    "set_copy.update([3, 4, 5, 6, 7])\n",
    "print(set_copy)\n",
    "print(set_org)\n"
   ]
  },
  {
   "cell_type": "markdown",
   "metadata": {},
   "source": [
    "### Subset, superset, disjoint"
   ]
  },
  {
   "cell_type": "code",
   "execution_count": 13,
   "metadata": {},
   "outputs": [
    {
     "name": "stdout",
     "output_type": "stream",
     "text": [
      "False\n",
      "True\n",
      "True\n",
      "False\n",
      "False\n",
      "True\n"
     ]
    }
   ],
   "source": [
    "setA = {1, 2, 3, 4, 5, 6}\n",
    "setB = {1, 2, 3}\n",
    "# issubset(setX): Returns True if setX contains the set\n",
    "print(setA.issubset(setB))\n",
    "print(setB.issubset(setA)) # True\n",
    "\n",
    "# If B contains A, or in other words, B is a superset of A.\n",
    "# issuperset(setX): Returns True if the set contains setX\n",
    "print(setA.issuperset(setB)) # True\n",
    "print(setB.issuperset(setA))\n",
    "\n",
    "# isdisjoint(setX) : Return True if both sets have a null intersection, i.e. no same elements\n",
    "setC = {7, 8, 9}\n",
    "print(setA.isdisjoint(setB))\n",
    "print(setA.isdisjoint(setC)) ## True"
   ]
  },
  {
   "cell_type": "code",
   "execution_count": 17,
   "metadata": {},
   "outputs": [
    {
     "data": {
      "text/plain": [
       "{1, 2, 3, 5, 6}"
      ]
     },
     "execution_count": 17,
     "metadata": {},
     "output_type": "execute_result"
    }
   ],
   "source": [
    "a = {1,2,3}\n",
    "a.add(5)\n",
    "a.update([6])\n",
    "a"
   ]
  },
  {
   "cell_type": "markdown",
   "metadata": {},
   "source": [
    "## Frozenset"
   ]
  },
  {
   "cell_type": "code",
   "execution_count": 2,
   "metadata": {},
   "outputs": [
    {
     "name": "stdout",
     "output_type": "stream",
     "text": [
      "frozenset({0, 1, 2, 3, 4, 5, 6, 7, 8, 9})\n",
      "frozenset()\n",
      "frozenset({1, 3, 5, 7, 9})\n"
     ]
    }
   ],
   "source": [
    "a = frozenset([0, 1, 2, 3, 4])\n",
    "\n",
    "# The following is not allowed:\n",
    "# a.add(5)\n",
    "# a.remove(1)\n",
    "# a.discard(1)\n",
    "# a.clear()\n",
    "\n",
    "# Also no update methods are allowed:\n",
    "# a.update([1,2,3])\n",
    "\n",
    "# Other set operations work\n",
    "odds = frozenset({1, 3, 5, 7, 9})\n",
    "evens = frozenset({0, 2, 4, 6, 8})\n",
    "print(odds.union(evens))\n",
    "print(odds.intersection(evens))\n",
    "print(odds.difference(evens))"
   ]
  },
  {
   "cell_type": "code",
   "execution_count": 20,
   "metadata": {},
   "outputs": [
    {
     "ename": "ValueError",
     "evalue": "not enough values to unpack (expected 3, got 2)",
     "output_type": "error",
     "traceback": [
      "\u001b[1;31m---------------------------------------------------------------------------\u001b[0m",
      "\u001b[1;31mValueError\u001b[0m                                Traceback (most recent call last)",
      "\u001b[1;32m<ipython-input-20-dc9775e2f322>\u001b[0m in \u001b[0;36m<module>\u001b[1;34m\u001b[0m\n\u001b[0;32m      1\u001b[0m \u001b[0ma\u001b[0m \u001b[1;33m=\u001b[0m \u001b[1;33m(\u001b[0m\u001b[1;36m1\u001b[0m\u001b[1;33m,\u001b[0m\u001b[1;36m2\u001b[0m\u001b[1;33m)\u001b[0m\u001b[1;33m\u001b[0m\u001b[1;33m\u001b[0m\u001b[0m\n\u001b[1;32m----> 2\u001b[1;33m \u001b[0mfirst\u001b[0m\u001b[1;33m,\u001b[0m\u001b[0msecond\u001b[0m\u001b[1;33m,\u001b[0m\u001b[0mthird\u001b[0m \u001b[1;33m=\u001b[0m \u001b[0ma\u001b[0m\u001b[1;33m\u001b[0m\u001b[1;33m\u001b[0m\u001b[0m\n\u001b[0m\u001b[0;32m      3\u001b[0m \u001b[1;33m\u001b[0m\u001b[0m\n\u001b[0;32m      4\u001b[0m \u001b[0mprint\u001b[0m\u001b[1;33m(\u001b[0m\u001b[0mfirst\u001b[0m\u001b[1;33m,\u001b[0m\u001b[0msecond\u001b[0m\u001b[1;33m,\u001b[0m\u001b[0mthird\u001b[0m\u001b[1;33m)\u001b[0m\u001b[1;33m\u001b[0m\u001b[1;33m\u001b[0m\u001b[0m\n",
      "\u001b[1;31mValueError\u001b[0m: not enough values to unpack (expected 3, got 2)"
     ]
    }
   ],
   "source": [
    "a = (1,2,3)\n",
    "first,second,third = a\n",
    "\n",
    "print(first,second,third)"
   ]
  },
  {
   "cell_type": "code",
   "execution_count": null,
   "metadata": {},
   "outputs": [],
   "source": []
  }
 ],
 "metadata": {
  "kernelspec": {
   "display_name": "Python 3.6.13 ('gputest')",
   "language": "python",
   "name": "python3"
  },
  "language_info": {
   "codemirror_mode": {
    "name": "ipython",
    "version": 3
   },
   "file_extension": ".py",
   "mimetype": "text/x-python",
   "name": "python",
   "nbconvert_exporter": "python",
   "pygments_lexer": "ipython3",
   "version": "3.6.13"
  },
  "orig_nbformat": 4,
  "vscode": {
   "interpreter": {
    "hash": "914c139996f68d185b073981459f96382266ba5f3df925a29404be19a0a7c343"
   }
  }
 },
 "nbformat": 4,
 "nbformat_minor": 2
}
