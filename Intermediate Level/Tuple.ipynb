{
 "cells": [
  {
   "cell_type": "code",
   "execution_count": 1,
   "metadata": {},
   "outputs": [
    {
     "name": "stdout",
     "output_type": "stream",
     "text": [
      "[1, 2, 3]\n"
     ]
    }
   ],
   "source": [
    "k = list((1,2,3))\n",
    "print(k) ## tuple changed to list"
   ]
  },
  {
   "cell_type": "code",
   "execution_count": 1,
   "metadata": {},
   "outputs": [
    {
     "ename": "AttributeError",
     "evalue": "'tuple' object has no attribute 'tolist'",
     "output_type": "error",
     "traceback": [
      "\u001b[1;31m---------------------------------------------------------------------------\u001b[0m",
      "\u001b[1;31mAttributeError\u001b[0m                            Traceback (most recent call last)",
      "\u001b[1;32m<ipython-input-1-0254531e2a87>\u001b[0m in \u001b[0;36m<module>\u001b[1;34m\u001b[0m\n\u001b[1;32m----> 1\u001b[1;33m \u001b[1;33m(\u001b[0m\u001b[1;36m1\u001b[0m\u001b[1;33m,\u001b[0m\u001b[1;36m2\u001b[0m\u001b[1;33m,\u001b[0m\u001b[1;36m3\u001b[0m\u001b[1;33m)\u001b[0m\u001b[1;33m.\u001b[0m\u001b[0mtolist\u001b[0m\u001b[1;33m(\u001b[0m\u001b[1;33m)\u001b[0m\u001b[1;33m\u001b[0m\u001b[1;33m\u001b[0m\u001b[0m\n\u001b[0m",
      "\u001b[1;31mAttributeError\u001b[0m: 'tuple' object has no attribute 'tolist'"
     ]
    }
   ],
   "source": [
    "(1,2,3).tolist()"
   ]
  },
  {
   "cell_type": "markdown",
   "metadata": {},
   "source": [
    "## Tuples faster than List\n",
    "## List faster than for loop"
   ]
  },
  {
   "cell_type": "markdown",
   "metadata": {},
   "source": []
  },
  {
   "cell_type": "markdown",
   "metadata": {},
   "source": [
    "## Tuples\n",
    "They are ordered and immutable -> (Cannot change the entries of the tuple)\n",
    "\n",
    "Since they are immuatble, they are slightly faster than lists.\n",
    "\n",
    "Lists contains the data of same data type whereas in tuples, you can have data of various data types\n",
    "\n",
    "Elements in the tuple can be used as key for the dictionary.\n",
    "\n",
    "Use tuple when you don't want your data to be over written"
   ]
  },
  {
   "cell_type": "code",
   "execution_count": 2,
   "metadata": {},
   "outputs": [
    {
     "data": {
      "text/plain": [
       "[1, 2, 3, 'saket']"
      ]
     },
     "execution_count": 2,
     "metadata": {},
     "output_type": "execute_result"
    }
   ],
   "source": [
    "a = [1,2,3,'saket']\n",
    "a"
   ]
  },
  {
   "cell_type": "markdown",
   "metadata": {},
   "source": [
    "## Creating a Tuple"
   ]
  },
  {
   "cell_type": "code",
   "execution_count": 2,
   "metadata": {},
   "outputs": [
    {
     "name": "stdout",
     "output_type": "stream",
     "text": [
      "('Sanket', 'Zanwar', 26)\n",
      "<class 'tuple'>\n",
      "\n",
      "\n",
      "('USA', 25, 'NEU')\n",
      "<class 'tuple'>\n",
      "\n",
      "\n",
      "(23,)\n",
      "<class 'tuple'>\n",
      "\n",
      "\n",
      "(1, 2, 3)\n",
      "<class 'tuple'>\n"
     ]
    }
   ],
   "source": [
    "tuple_1 = (\"Sanket\",\"Zanwar\",26)  ## tuple\n",
    "\n",
    "tuple_2 = \"USA\",25,\"NEU\"   ## this is also a tuple, though with no brackets\n",
    "\n",
    "tuple_3 = (23,)\n",
    "\n",
    "\n",
    "print(tuple_1)\n",
    "print(type(tuple_1))\n",
    "print(\"\\n\")\n",
    "\n",
    "print(tuple_2)\n",
    "print(type(tuple_2))\n",
    "print(\"\\n\")\n",
    "\n",
    "print(tuple_3)\n",
    "print(type(tuple_3))\n",
    "print(\"\\n\")\n",
    "\n",
    "tuple_4 = tuple([1,2,3])\n",
    "print(tuple_4)\n",
    "print(type(tuple_4))\n",
    "\n",
    "\n"
   ]
  },
  {
   "cell_type": "code",
   "execution_count": 3,
   "metadata": {},
   "outputs": [
    {
     "name": "stdout",
     "output_type": "stream",
     "text": [
      "USA\n",
      "NEU\n"
     ]
    }
   ],
   "source": [
    "print(tuple_2[0])\n",
    "print(tuple_2[-1])"
   ]
  },
  {
   "cell_type": "markdown",
   "metadata": {},
   "source": [
    "## changing the entries of tuple"
   ]
  },
  {
   "cell_type": "code",
   "execution_count": 4,
   "metadata": {},
   "outputs": [
    {
     "ename": "TypeError",
     "evalue": "'tuple' object does not support item assignment",
     "output_type": "error",
     "traceback": [
      "\u001b[1;31m---------------------------------------------------------------------------\u001b[0m",
      "\u001b[1;31mTypeError\u001b[0m                                 Traceback (most recent call last)",
      "\u001b[1;32m<ipython-input-4-69c594926e09>\u001b[0m in \u001b[0;36m<module>\u001b[1;34m\u001b[0m\n\u001b[0;32m      1\u001b[0m \u001b[0mkey\u001b[0m \u001b[1;33m=\u001b[0m \u001b[1;34m\"Waterloo\"\u001b[0m\u001b[1;33m\u001b[0m\u001b[1;33m\u001b[0m\u001b[0m\n\u001b[1;32m----> 2\u001b[1;33m \u001b[0mtuple_2\u001b[0m\u001b[1;33m[\u001b[0m\u001b[1;33m-\u001b[0m\u001b[1;36m1\u001b[0m\u001b[1;33m]\u001b[0m\u001b[1;33m=\u001b[0m\u001b[0mkey\u001b[0m\u001b[1;33m\u001b[0m\u001b[1;33m\u001b[0m\u001b[0m\n\u001b[0m\u001b[0;32m      3\u001b[0m \u001b[0mprint\u001b[0m\u001b[1;33m(\u001b[0m\u001b[0mtuple_2\u001b[0m\u001b[1;33m)\u001b[0m\u001b[1;33m\u001b[0m\u001b[1;33m\u001b[0m\u001b[0m\n\u001b[0;32m      4\u001b[0m \u001b[1;33m\u001b[0m\u001b[0m\n\u001b[0;32m      5\u001b[0m \u001b[1;31m## see error arises, since you cannot change the entries of the tuple\u001b[0m\u001b[1;33m\u001b[0m\u001b[1;33m\u001b[0m\u001b[1;33m\u001b[0m\u001b[0m\n",
      "\u001b[1;31mTypeError\u001b[0m: 'tuple' object does not support item assignment"
     ]
    }
   ],
   "source": [
    "key = \"Waterloo\"\n",
    "tuple_2[-1]=key\n",
    "print(tuple_2)\n",
    "\n",
    "## see error arises, since you cannot change the entries of the tuple\n",
    "## they are immuatble"
   ]
  },
  {
   "cell_type": "markdown",
   "metadata": {},
   "source": [
    "## Deleting Tuple"
   ]
  },
  {
   "cell_type": "code",
   "execution_count": 3,
   "metadata": {},
   "outputs": [
    {
     "ename": "NameError",
     "evalue": "name 'tuple_3' is not defined",
     "output_type": "error",
     "traceback": [
      "\u001b[1;31m---------------------------------------------------------------------------\u001b[0m",
      "\u001b[1;31mNameError\u001b[0m                                 Traceback (most recent call last)",
      "\u001b[1;32m<ipython-input-3-f53f6cb21209>\u001b[0m in \u001b[0;36m<module>\u001b[1;34m\u001b[0m\n\u001b[0;32m      2\u001b[0m \u001b[1;31m## clear for list\u001b[0m\u001b[1;33m\u001b[0m\u001b[1;33m\u001b[0m\u001b[1;33m\u001b[0m\u001b[0m\n\u001b[0;32m      3\u001b[0m \u001b[1;33m\u001b[0m\u001b[0m\n\u001b[1;32m----> 4\u001b[1;33m \u001b[1;32mdel\u001b[0m \u001b[0mtuple_3\u001b[0m   \u001b[1;31m## here it got deleted\u001b[0m\u001b[1;33m\u001b[0m\u001b[1;33m\u001b[0m\u001b[0m\n\u001b[0m\u001b[0;32m      5\u001b[0m \u001b[0mprint\u001b[0m\u001b[1;33m(\u001b[0m\u001b[0mtuple_3\u001b[0m\u001b[1;33m)\u001b[0m  \u001b[1;31m## so no reference here\u001b[0m\u001b[1;33m\u001b[0m\u001b[1;33m\u001b[0m\u001b[0m\n",
      "\u001b[1;31mNameError\u001b[0m: name 'tuple_3' is not defined"
     ]
    }
   ],
   "source": [
    "## del for tuple\n",
    "## clear for list\n",
    "\n",
    "del tuple_3   ## here it got deleted\n",
    "print(tuple_3)  ## so no reference here"
   ]
  },
  {
   "cell_type": "markdown",
   "metadata": {},
   "source": [
    "# Iterating the entries"
   ]
  },
  {
   "cell_type": "code",
   "execution_count": 4,
   "metadata": {},
   "outputs": [
    {
     "name": "stdout",
     "output_type": "stream",
     "text": [
      "USA\n",
      "25\n",
      "NEU\n"
     ]
    }
   ],
   "source": [
    "for i in tuple_2:\n",
    "    print(i)"
   ]
  },
  {
   "cell_type": "code",
   "execution_count": 4,
   "metadata": {},
   "outputs": [
    {
     "ename": "NameError",
     "evalue": "name 'tuple_2' is not defined",
     "output_type": "error",
     "traceback": [
      "\u001b[1;31m---------------------------------------------------------------------------\u001b[0m",
      "\u001b[1;31mNameError\u001b[0m                                 Traceback (most recent call last)",
      "\u001b[1;32m<ipython-input-4-41da22700080>\u001b[0m in \u001b[0;36m<module>\u001b[1;34m\u001b[0m\n\u001b[1;32m----> 1\u001b[1;33m \u001b[1;32mif\u001b[0m \u001b[1;34m\"USA\"\u001b[0m \u001b[1;32min\u001b[0m \u001b[0mtuple_2\u001b[0m\u001b[1;33m:\u001b[0m\u001b[1;33m\u001b[0m\u001b[1;33m\u001b[0m\u001b[0m\n\u001b[0m\u001b[0;32m      2\u001b[0m     \u001b[0mprint\u001b[0m\u001b[1;33m(\u001b[0m\u001b[1;34m\"YES\"\u001b[0m\u001b[1;33m)\u001b[0m\u001b[1;33m\u001b[0m\u001b[1;33m\u001b[0m\u001b[0m\n\u001b[0;32m      3\u001b[0m \u001b[1;32melse\u001b[0m \u001b[1;33m:\u001b[0m\u001b[1;33m\u001b[0m\u001b[1;33m\u001b[0m\u001b[0m\n\u001b[0;32m      4\u001b[0m      \u001b[0mprint\u001b[0m\u001b[1;33m(\u001b[0m\u001b[1;34m\"NO\"\u001b[0m\u001b[1;33m)\u001b[0m\u001b[1;33m\u001b[0m\u001b[1;33m\u001b[0m\u001b[0m\n",
      "\u001b[1;31mNameError\u001b[0m: name 'tuple_2' is not defined"
     ]
    }
   ],
   "source": [
    "if \"USA\" in tuple_2:\n",
    "    print(\"YES\")\n",
    "else :\n",
    "     print(\"NO\")    "
   ]
  },
  {
   "cell_type": "markdown",
   "metadata": {},
   "source": [
    "## Playing with Tuples"
   ]
  },
  {
   "cell_type": "code",
   "execution_count": 5,
   "metadata": {},
   "outputs": [
    {
     "name": "stdout",
     "output_type": "stream",
     "text": [
      "('a', 'p', 'p', 'l', 'e')\n",
      "5\n",
      "1\n",
      "0\n",
      "1\n",
      "('aaaaa', 'bbbbb')\n",
      "('a', 'b', 'a', 'b', 'a', 'b', 'a', 'b', 'a', 'b')\n",
      "['S', 'a', 'n', 'k', 'e', 't']\n",
      "<class 'list'>\n",
      "\n",
      "\n",
      "('S', 'a', 'n', 'k', 'e', 't')\n",
      "<class 'tuple'>\n"
     ]
    }
   ],
   "source": [
    "word = \"apple\"\n",
    "my_tuple = tuple(word)\n",
    "print(my_tuple)\n",
    "\n",
    "\n",
    "## length of tuple\n",
    "print(len(my_tuple))\n",
    "\n",
    "## number of times a entry has occured\n",
    "print(my_tuple.count('a'))\n",
    "\n",
    "## index of a entyr\n",
    "print(my_tuple.index(\"a\"))\n",
    "print(my_tuple.index(\"p\")) ## since p came twice in string, so index of first 'p' will be returned\n",
    "\n",
    "\n",
    "## Repition of tuple:\n",
    "my_tuple = ('a'*5,'b'*5)\n",
    "print(my_tuple)\n",
    "\n",
    "my_tuple = ('a','b')*5\n",
    "print(my_tuple)\n",
    "\n",
    "\n",
    "## list to tuple\n",
    "word = \"Sanket\"\n",
    "list_1 = list(word)\n",
    "print(list_1)\n",
    "print(type(list_1))\n",
    "print(\"\\n\")\n",
    "\n",
    "list_to_tuple = tuple(list_1)\n",
    "print(list_to_tuple)\n",
    "print(type(list_to_tuple))"
   ]
  },
  {
   "cell_type": "code",
   "execution_count": 8,
   "metadata": {},
   "outputs": [
    {
     "data": {
      "text/plain": [
       "[1, 2, 3]"
      ]
     },
     "execution_count": 8,
     "metadata": {},
     "output_type": "execute_result"
    }
   ],
   "source": [
    "a = (1,2,3)\n",
    "list(a)"
   ]
  },
  {
   "cell_type": "markdown",
   "metadata": {},
   "source": [
    "## Slicing"
   ]
  },
  {
   "cell_type": "code",
   "execution_count": null,
   "metadata": {},
   "outputs": [
    {
     "name": "stdout",
     "output_type": "stream",
     "text": [
      "('1', '2', '3', '4', '5', '6', '7', '8', '9')\n",
      "('1', '2', '3', '4', '5', '6', '7', '8', '9')\n",
      "('1', '2', '3', '4', '5')\n",
      "('5', '6', '7', '8', '9')\n",
      "('1', '3', '5', '7', '9')\n",
      "('9', '8', '7', '6', '5', '4', '3', '2', '1')\n"
     ]
    }
   ],
   "source": [
    "a = \"123456789\"\n",
    "a = tuple(a)\n",
    "print(a)\n",
    "\n",
    "## all elements\n",
    "print(a[:])\n",
    "\n",
    "## first 5 elements\n",
    "print(a[:5])\n",
    "\n",
    "## last 5 elements  \n",
    "print(a[-5:])   ## indexes from -5 to -1\n",
    "\n",
    "## print evrry second item\n",
    "print(a[::2])\n",
    "\n",
    "## reverse the tuple\n",
    "print(a[::-1])"
   ]
  },
  {
   "cell_type": "markdown",
   "metadata": {},
   "source": [
    "# Unpack tuple"
   ]
  },
  {
   "cell_type": "code",
   "execution_count": 10,
   "metadata": {},
   "outputs": [
    {
     "name": "stdout",
     "output_type": "stream",
     "text": [
      "Sanket\n",
      " type of name <class 'str'>\n",
      "Zanwar\n",
      "MH\n",
      "('1', '2', '3', '4', '5', '6', '7', '8', '9')\n",
      "1\n",
      "['2', '3', '4', '5', '6', '7', '8']\n",
      "9\n",
      "<class 'list'>\n"
     ]
    }
   ],
   "source": [
    "my_tuple = ('Sanket',\"Zanwar\",\"MH\")\n",
    "\n",
    "name,surname,state = my_tuple\n",
    "\n",
    "print(name)\n",
    "print(\" type of name\", type(name))\n",
    "print(surname)\n",
    "print(state)\n",
    "\n",
    "\n",
    "word='123456789'\n",
    "my_tuple = tuple(word)\n",
    "print(my_tuple)\n",
    "\n",
    "first,*in_between,last=my_tuple \n",
    "print(first)\n",
    "print(in_between)  ## type will be of list\n",
    "print(last)\n",
    "\n",
    "print(type(in_between))  ## this will be a list"
   ]
  },
  {
   "cell_type": "markdown",
   "metadata": {},
   "source": [
    "## Nested tuples\n"
   ]
  },
  {
   "cell_type": "code",
   "execution_count": null,
   "metadata": {},
   "outputs": [
    {
     "name": "stdout",
     "output_type": "stream",
     "text": [
      "(1, 2, 'Sanket')\n",
      "Zanwar\n"
     ]
    }
   ],
   "source": [
    "tuple_1 = ((1,2,\"Sanket\"),(3,4,\"Zanwar\"))\n",
    "\n",
    "print(tuple_1[0])\n",
    "print(tuple_1[1][2])"
   ]
  },
  {
   "cell_type": "markdown",
   "metadata": {},
   "source": [
    "## comparing list and tuple"
   ]
  },
  {
   "cell_type": "code",
   "execution_count": 11,
   "metadata": {},
   "outputs": [
    {
     "name": "stdout",
     "output_type": "stream",
     "text": [
      "104 bytes\n",
      "88 bytes\n",
      "0.0069068\n",
      "0.0013931000000000004\n"
     ]
    }
   ],
   "source": [
    "import sys\n",
    "\n",
    "my_list = [0,1,2,\"hello\",True]\n",
    "my_tuple =(0,1,2,\"hello\",True)  ## tuple(my_list)\n",
    "\n",
    "print(sys.getsizeof(my_list),\"bytes\")  ## gives the memory size of this\n",
    "print(sys.getsizeof(my_tuple),\"bytes\")\n",
    "\n",
    "## execution time of list vs tuple\n",
    "\n",
    "import timeit\n",
    "\n",
    "## stmt is the statement that you wanna see the execution time\n",
    "print(timeit.timeit(stmt=\"[0,1,2,3,4,5]\",number=100000))  ## number is the number of executions you want to run\n",
    "print(timeit.timeit(stmt=\"(0,1,2,3,4,5)\",number=100000)) "
   ]
  },
  {
   "cell_type": "code",
   "execution_count": null,
   "metadata": {},
   "outputs": [],
   "source": []
  },
  {
   "cell_type": "code",
   "execution_count": null,
   "metadata": {},
   "outputs": [],
   "source": []
  },
  {
   "cell_type": "code",
   "execution_count": null,
   "metadata": {},
   "outputs": [],
   "source": []
  }
 ],
 "metadata": {
  "kernelspec": {
   "display_name": "Python 3.6.13 ('gputest')",
   "language": "python",
   "name": "python3"
  },
  "language_info": {
   "codemirror_mode": {
    "name": "ipython",
    "version": 3
   },
   "file_extension": ".py",
   "mimetype": "text/x-python",
   "name": "python",
   "nbconvert_exporter": "python",
   "pygments_lexer": "ipython3",
   "version": "3.6.13"
  },
  "orig_nbformat": 4,
  "vscode": {
   "interpreter": {
    "hash": "914c139996f68d185b073981459f96382266ba5f3df925a29404be19a0a7c343"
   }
  }
 },
 "nbformat": 4,
 "nbformat_minor": 2
}
