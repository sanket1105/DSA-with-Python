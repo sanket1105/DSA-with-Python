{
 "cells": [
  {
   "cell_type": "markdown",
   "metadata": {},
   "source": [
    "## Random Numbers\n",
    "\n",
    "This module implements pseudo-random number generators for various distributions. It uses the Mersenne Twister algorithm (https://en.wikipedia.org/wiki/Mersenne_Twister) as its core generator. It is called pseudo-random, because the numbers seem random, but are reproducabl"
   ]
  },
  {
   "cell_type": "code",
   "execution_count": 5,
   "metadata": {},
   "outputs": [
    {
     "name": "stdout",
     "output_type": "stream",
     "text": [
      "0.33886196124074286\n",
      "3.271830497307937\n",
      "6\n",
      "2\n",
      "-0.4832947281013419\n",
      "i\n",
      "['q', 't', 'i']\n",
      "['e', 'r', 'p']\n",
      "['g', 'd', 'b', 'i', 'e', 'f', 'h', 'c', 'a']\n"
     ]
    }
   ],
   "source": [
    "import random\n",
    "\n",
    "## Random float number in [0,1)\n",
    "a = random.random()\n",
    "print(a)\n",
    "\n",
    "## Random float number in range [a,b]\n",
    "a = random.uniform(1,10)\n",
    "print(a)\n",
    "\n",
    "## Random integer in [a,b]\n",
    "a = random.randint(0,10)\n",
    "print(a)\n",
    "\n",
    "## Random integer in [a,b)\n",
    "a = random.randrange(0,10)\n",
    "print(a)\n",
    "\n",
    "## random float number normal distribution with mu as 0 and sigma as 1\n",
    "a = random.normalvariate(0,1)\n",
    "print(a)\n",
    "\n",
    "## Random element from sequence\n",
    "string1 = list('qwertyuiop')\n",
    "a = random.choice(string1)\n",
    "print(a)\n",
    "\n",
    "## Choose k random elements from sequence : \n",
    "a = random.sample(string1,3)\n",
    "print(a)\n",
    "\n",
    "## choose k elemets with replacement that is elements can come twice\n",
    "a = random.choices(string1,k=3)\n",
    "print(a)\n",
    "\n",
    "\n",
    "## shuffling the list\n",
    "a = list('abcdefghi')\n",
    "random.shuffle(a)\n",
    "print(a)"
   ]
  },
  {
   "cell_type": "code",
   "execution_count": 7,
   "metadata": {},
   "outputs": [
    {
     "ename": "ValueError",
     "evalue": "Sample larger than population or is negative",
     "output_type": "error",
     "traceback": [
      "\u001b[1;31m---------------------------------------------------------------------------\u001b[0m",
      "\u001b[1;31mValueError\u001b[0m                                Traceback (most recent call last)",
      "\u001b[1;32m<ipython-input-7-5e2302094a4a>\u001b[0m in \u001b[0;36m<module>\u001b[1;34m\u001b[0m\n\u001b[0;32m      2\u001b[0m \u001b[1;31m## Choose k unique random elements from sequence\u001b[0m\u001b[1;33m\u001b[0m\u001b[1;33m\u001b[0m\u001b[1;33m\u001b[0m\u001b[0m\n\u001b[0;32m      3\u001b[0m \u001b[0mstring1\u001b[0m \u001b[1;33m=\u001b[0m\u001b[1;33m[\u001b[0m\u001b[1;36m1\u001b[0m\u001b[1;33m,\u001b[0m\u001b[1;36m2\u001b[0m\u001b[1;33m,\u001b[0m\u001b[1;36m3\u001b[0m\u001b[1;33m,\u001b[0m\u001b[1;36m4\u001b[0m\u001b[1;33m,\u001b[0m\u001b[1;36m5\u001b[0m\u001b[1;33m,\u001b[0m\u001b[1;36m6\u001b[0m\u001b[1;33m,\u001b[0m\u001b[1;36m7\u001b[0m\u001b[1;33m]\u001b[0m\u001b[1;33m\u001b[0m\u001b[1;33m\u001b[0m\u001b[0m\n\u001b[1;32m----> 4\u001b[1;33m \u001b[0ma\u001b[0m \u001b[1;33m=\u001b[0m \u001b[0mrandom\u001b[0m\u001b[1;33m.\u001b[0m\u001b[0msample\u001b[0m\u001b[1;33m(\u001b[0m\u001b[0mstring1\u001b[0m\u001b[1;33m,\u001b[0m\u001b[1;36m8\u001b[0m\u001b[1;33m)\u001b[0m  \u001b[1;31m## 8 larger than the list size\u001b[0m\u001b[1;33m\u001b[0m\u001b[1;33m\u001b[0m\u001b[0m\n\u001b[0m\u001b[0;32m      5\u001b[0m \u001b[0mprint\u001b[0m\u001b[1;33m(\u001b[0m\u001b[0ma\u001b[0m\u001b[1;33m)\u001b[0m\u001b[1;33m\u001b[0m\u001b[1;33m\u001b[0m\u001b[0m\n",
      "\u001b[1;32mc:\\Users\\Shankii\\anaconda3\\envs\\gputest\\lib\\random.py\u001b[0m in \u001b[0;36msample\u001b[1;34m(self, population, k)\u001b[0m\n\u001b[0;32m    318\u001b[0m         \u001b[0mn\u001b[0m \u001b[1;33m=\u001b[0m \u001b[0mlen\u001b[0m\u001b[1;33m(\u001b[0m\u001b[0mpopulation\u001b[0m\u001b[1;33m)\u001b[0m\u001b[1;33m\u001b[0m\u001b[1;33m\u001b[0m\u001b[0m\n\u001b[0;32m    319\u001b[0m         \u001b[1;32mif\u001b[0m \u001b[1;32mnot\u001b[0m \u001b[1;36m0\u001b[0m \u001b[1;33m<=\u001b[0m \u001b[0mk\u001b[0m \u001b[1;33m<=\u001b[0m \u001b[0mn\u001b[0m\u001b[1;33m:\u001b[0m\u001b[1;33m\u001b[0m\u001b[1;33m\u001b[0m\u001b[0m\n\u001b[1;32m--> 320\u001b[1;33m             \u001b[1;32mraise\u001b[0m \u001b[0mValueError\u001b[0m\u001b[1;33m(\u001b[0m\u001b[1;34m\"Sample larger than population or is negative\"\u001b[0m\u001b[1;33m)\u001b[0m\u001b[1;33m\u001b[0m\u001b[1;33m\u001b[0m\u001b[0m\n\u001b[0m\u001b[0;32m    321\u001b[0m         \u001b[0mresult\u001b[0m \u001b[1;33m=\u001b[0m \u001b[1;33m[\u001b[0m\u001b[1;32mNone\u001b[0m\u001b[1;33m]\u001b[0m \u001b[1;33m*\u001b[0m \u001b[0mk\u001b[0m\u001b[1;33m\u001b[0m\u001b[1;33m\u001b[0m\u001b[0m\n\u001b[0;32m    322\u001b[0m         \u001b[0msetsize\u001b[0m \u001b[1;33m=\u001b[0m \u001b[1;36m21\u001b[0m        \u001b[1;31m# size of a small set minus size of an empty list\u001b[0m\u001b[1;33m\u001b[0m\u001b[1;33m\u001b[0m\u001b[0m\n",
      "\u001b[1;31mValueError\u001b[0m: Sample larger than population or is negative"
     ]
    }
   ],
   "source": [
    "## Error Raises\n",
    "## Choose k unique random elements from sequence\n",
    "string1 =[1,2,3,4,5,6,7]\n",
    "a = random.sample(string1,8)  ## 8 larger than the list size\n",
    "print(a)"
   ]
  },
  {
   "cell_type": "code",
   "execution_count": null,
   "metadata": {},
   "outputs": [],
   "source": []
  },
  {
   "cell_type": "markdown",
   "metadata": {},
   "source": [
    "## The Seed Generator\n",
    "if you use random.seed(), the randomness in the output completely gets demolished. Every time you will get the same output."
   ]
  },
  {
   "cell_type": "code",
   "execution_count": 31,
   "metadata": {},
   "outputs": [
    {
     "name": "stdout",
     "output_type": "stream",
     "text": [
      "Seeding with 1...\n",
      "\n",
      "0.13436424411240122\n",
      "8.626903632435095\n",
      "B\n",
      "\n",
      "Re-seeding with 42...\n",
      "\n",
      "0.6394267984578837\n",
      "1.2250967970040025\n",
      "E\n",
      "\n",
      "Re-seeding with 1...\n",
      "\n",
      "0.13436424411240122\n",
      "8.626903632435095\n",
      "B\n",
      "\n",
      "Re-seeding with 42...\n",
      "\n",
      "0.6394267984578837\n",
      "1.2250967970040025\n",
      "E\n"
     ]
    }
   ],
   "source": [
    "print('Seeding with 1...\\n')\n",
    "\n",
    "random.seed(1)\n",
    "print(random.random())\n",
    "print(random.uniform(1,10))\n",
    "print(random.choice(list(\"ABCDEFGHI\")))\n",
    "\n",
    "print('\\nRe-seeding with 42...\\n')\n",
    "random.seed(42)  # Re-seed\n",
    "\n",
    "print(random.random())\n",
    "print(random.uniform(1,10))\n",
    "print(random.choice(list(\"ABCDEFGHI\")))\n",
    "\n",
    "## re running the above code with the same random.seed()\n",
    "print('\\nRe-seeding with 1...\\n')\n",
    "random.seed(1)  # Re-seed\n",
    "\n",
    "print(random.random())\n",
    "print(random.uniform(1,10))\n",
    "print(random.choice(list(\"ABCDEFGHI\")))\n",
    "\n",
    "print('\\nRe-seeding with 42...\\n')\n",
    "random.seed(42)  # Re-seed\n",
    "\n",
    "print(random.random())\n",
    "print(random.uniform(1,10))\n",
    "print(random.choice(list(\"ABCDEFGHI\")))"
   ]
  },
  {
   "cell_type": "code",
   "execution_count": null,
   "metadata": {},
   "outputs": [],
   "source": []
  },
  {
   "cell_type": "markdown",
   "metadata": {},
   "source": [
    "## The SECRET Module\n",
    "The secrets module is used for generating cryptographically strong random numbers suitable for managing data such as passwords, account authentication, security tokens, and related secrets.\n",
    "In particularly, secrets should be used in preference to the default pseudo-random number generator in the random module, which is designed for modelling and simulation, not security or cryptography."
   ]
  },
  {
   "cell_type": "code",
   "execution_count": 54,
   "metadata": {},
   "outputs": [
    {
     "name": "stdout",
     "output_type": "stream",
     "text": [
      "8\n",
      "6\n",
      "D\n"
     ]
    }
   ],
   "source": [
    "import secrets\n",
    "\n",
    "## Random integer in [0,n)\n",
    "a = secrets.randbelow(10)\n",
    "print(a)\n",
    "\n",
    "## returns an integer with k random bits\n",
    "a = secrets.randbits(3)  ## randomly assigning 0 or 1 in 3 bits and then its value in decimal form\n",
    "print(a)\n",
    "\n",
    "## random elements from sequence\n",
    "a = secrets.choice(list('ABCDEF'))\n",
    "print(a)\n"
   ]
  },
  {
   "cell_type": "markdown",
   "metadata": {},
   "source": [
    "## Random Numbers with NumPy"
   ]
  },
  {
   "cell_type": "code",
   "execution_count": 12,
   "metadata": {},
   "outputs": [
    {
     "name": "stdout",
     "output_type": "stream",
     "text": [
      "[4.17022005e-01 7.20324493e-01 1.14374817e-04]\n",
      "[0.37454012 0.95071431 0.73199394]\n",
      "[4.17022005e-01 7.20324493e-01 1.14374817e-04]\n",
      "[[5 0 0]\n",
      " [1 7 6]\n",
      " [9 2 4]\n",
      " [5 2 4]\n",
      " [2 4 7]]\n",
      "[-2.29230928 -1.41555249  0.8858294   0.63190187  0.04026035]\n",
      "[[ 1  2  3]\n",
      " [ 4  5  6]\n",
      " [ 7  8  9]\n",
      " [ 9 10 11]]\n",
      "Shuffled array\n",
      "[[ 7  8  9]\n",
      " [ 4  5  6]\n",
      " [ 9 10 11]\n",
      " [ 1  2  3]]\n"
     ]
    }
   ],
   "source": [
    "import numpy as np\n",
    "\n",
    "## numpy array with random floats with size k\n",
    "np.random.seed(1)\n",
    "print(np.random.rand(3))\n",
    "\n",
    "\n",
    "## seeing the seeding method\n",
    "np.random.seed(42)\n",
    "print(np.random.rand(3))\n",
    "\n",
    "np.random.seed(1)\n",
    "print(np.random.rand(3))\n",
    "\n",
    "## array with random integers with size n in range of [a,b)\n",
    "a = np.random.randint(0,10,(5,3))\n",
    "print(a)\n",
    "\n",
    "\n",
    "# generate nd array with Gaussian values, array has size n\n",
    "# values from standard normal distribution with mean 0.0 and standard deviation 1.0\n",
    "a = np.random.randn(5)\n",
    "print(a)\n",
    "\n",
    "## shuffling the array \n",
    "## just shuffles the row sequence\n",
    "## row 1 to row 3 and so on.........\n",
    "a = np.array([[1,2,3],[4,5,6],[7,8,9],[9,10,11]])\n",
    "print(a)\n",
    "np.random.shuffle(a)\n",
    "print(\"Shuffled array\")\n",
    "print(a)\n"
   ]
  },
  {
   "cell_type": "code",
   "execution_count": 16,
   "metadata": {},
   "outputs": [
    {
     "data": {
      "text/plain": [
       "True"
      ]
     },
     "execution_count": 16,
     "metadata": {},
     "output_type": "execute_result"
    }
   ],
   "source": [
    "a = 256\n",
    "b = 256\n",
    "a is b"
   ]
  },
  {
   "cell_type": "code",
   "execution_count": 17,
   "metadata": {},
   "outputs": [
    {
     "data": {
      "text/plain": [
       "[0, 1, 2, 5, 9]"
      ]
     },
     "execution_count": 17,
     "metadata": {},
     "output_type": "execute_result"
    }
   ],
   "source": [
    "sorted([1,2,5,9,0])"
   ]
  },
  {
   "cell_type": "code",
   "execution_count": null,
   "metadata": {},
   "outputs": [],
   "source": []
  }
 ],
 "metadata": {
  "kernelspec": {
   "display_name": "Python 3.6.13 ('gputest')",
   "language": "python",
   "name": "python3"
  },
  "language_info": {
   "codemirror_mode": {
    "name": "ipython",
    "version": 3
   },
   "file_extension": ".py",
   "mimetype": "text/x-python",
   "name": "python",
   "nbconvert_exporter": "python",
   "pygments_lexer": "ipython3",
   "version": "3.6.13"
  },
  "orig_nbformat": 4,
  "vscode": {
   "interpreter": {
    "hash": "914c139996f68d185b073981459f96382266ba5f3df925a29404be19a0a7c343"
   }
  }
 },
 "nbformat": 4,
 "nbformat_minor": 2
}
