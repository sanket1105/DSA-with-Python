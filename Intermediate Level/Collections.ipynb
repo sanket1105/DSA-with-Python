{
 "cells": [
  {
   "cell_type": "markdown",
   "metadata": {},
   "source": [
    "## Collections\n",
    "The collections module in Python implements specialized container datatypes providing alternatives to Python’s general purpose built-in containers, dict, list, set, and tuple.\n",
    "The following tools exist:\n",
    "\n",
    "namedtuple : factory function for creating tuple subclasses with named fields\n",
    "\n",
    "OrderedDict : dict subclass that remembers the order entries were added\n",
    "\n",
    "Counter : dict subclass for counting hashable objects\n",
    "\n",
    "defaultdict : dict subclass that calls a factory function to supply missing values\n",
    "\n",
    "deque : list-like container with fast appends and pops on either end"
   ]
  },
  {
   "cell_type": "markdown",
   "metadata": {},
   "source": [
    "## Counter:\n",
    "A counter is a container that stores elements as dictionary keys, and their counts are stored as dictionary values."
   ]
  },
  {
   "cell_type": "code",
   "execution_count": 3,
   "metadata": {},
   "outputs": [
    {
     "name": "stdout",
     "output_type": "stream",
     "text": [
      "Counter({'f': 7, 'e': 5, 'd': 4, 'c': 3, 'b': 2, 'a': 1})\n",
      "dict_items([('a', 1), ('b', 2), ('c', 3), ('d', 4), ('e', 5), ('f', 7)])\n",
      "dict_keys(['a', 'b', 'c', 'd', 'e', 'f'])\n",
      "dict_values([1, 2, 3, 4, 5, 7])\n",
      "[('f', 7), ('e', 5)]\n",
      "f\n",
      "['a', 'b', 'b', 'c', 'c', 'c', 'd', 'd', 'd', 'd', 'e', 'e', 'e', 'e', 'e', 'f', 'f', 'f', 'f', 'f', 'f', 'f']\n",
      "['a', 'b', 'b', 'c', 'c', 'c', 'd', 'd', 'd', 'd', 'e', 'e', 'e', 'e', 'e', 'f', 'f', 'f', 'f', 'f', 'f', 'f']\n"
     ]
    }
   ],
   "source": [
    "from collections import Counter\n",
    "string1='abbcccddddeeeeefffffff'\n",
    "my_counter = Counter(string1)\n",
    "print(my_counter)\n",
    "\n",
    "\n",
    "print(my_counter.items())\n",
    "print(my_counter.keys())\n",
    "print(my_counter.values())\n",
    "\n",
    "print(my_counter.most_common(2))  ## top 2 most repeated words\n",
    "print(my_counter.most_common(2)[0][0])\n",
    "\n",
    "\n",
    "print(list(my_counter.elements())) ## for bringing counter to string\n",
    "print(list(string1))"
   ]
  },
  {
   "cell_type": "code",
   "execution_count": 5,
   "metadata": {},
   "outputs": [
    {
     "name": "stdout",
     "output_type": "stream",
     "text": [
      "1836\n"
     ]
    }
   ],
   "source": [
    "prime_factors = Counter({2: 2, 3: 3, 17: 1})\n",
    "product = 1\n",
    "\n",
    "## you cant use keys inplace of elements, just one time the keys will get multiply\n",
    "for factor in prime_factors.elements():     # loop over factors\n",
    "     product *= factor                       # and multiply them\n",
    "\n",
    "print(product)     "
   ]
  },
  {
   "cell_type": "code",
   "execution_count": 33,
   "metadata": {},
   "outputs": [
    {
     "name": "stdout",
     "output_type": "stream",
     "text": [
      "Counter({'a': 2, 'b': 2, 'c': 2, 'd': 2, 'e': 2})\n"
     ]
    }
   ],
   "source": [
    "a = list('aabbccddee')\n",
    "print(Counter(a))"
   ]
  },
  {
   "cell_type": "code",
   "execution_count": null,
   "metadata": {},
   "outputs": [],
   "source": []
  },
  {
   "cell_type": "markdown",
   "metadata": {},
   "source": [
    "## Namedtuple\n",
    "namedtuples are easy to create, lightweight object types similar to struct. They assign meaning to each position in a tuple and allow for more readable, self-documenting code. They can be used wherever regular tuples are used, and they add the ability to access fields by name instead of position index"
   ]
  },
  {
   "cell_type": "code",
   "execution_count": 31,
   "metadata": {},
   "outputs": [
    {
     "name": "stdout",
     "output_type": "stream",
     "text": [
      "point(x=5, y=6)\n",
      "('x', 'y')\n",
      "5 6\n",
      "<class '__main__.point'>\n",
      "person(name='Sanket', age=22)\n"
     ]
    }
   ],
   "source": [
    "from collections import namedtuple\n",
    "\n",
    "point = namedtuple('point','x, y') \n",
    " ## easy way of creating tuple\n",
    "## here 'point' is the class name\n",
    "## it should match with the variable name assigned to it\n",
    "\n",
    "pt = point(5,6)\n",
    "print(pt)\n",
    "\n",
    "print(pt._fields)\n",
    "print(pt.x, pt.y)\n",
    "print(type(pt))\n",
    "\n",
    "\n",
    "person = namedtuple('person','name, age')\n",
    "p1 = person(\"Sanket\",22)\n",
    "print(p1)"
   ]
  },
  {
   "cell_type": "code",
   "execution_count": null,
   "metadata": {},
   "outputs": [],
   "source": []
  },
  {
   "cell_type": "markdown",
   "metadata": {},
   "source": [
    "## OrderedDict\n",
    "OrderedDicts are just like regular dictionaries but they remember the order that items were inserted. When iterating over an ordered dictionary, the items are returned in the order their keys were first added. If a new entry overwrites an existing entry, the original insertion position is left unchanged. They have become less important now that the built-in dict class gained the ability to remember insertion order (guaranteed since Python 3.7). But some differences still remain, e.g. the OrderedDict is designed to be good at reordering operations."
   ]
  },
  {
   "cell_type": "code",
   "execution_count": 40,
   "metadata": {},
   "outputs": [
    {
     "name": "stdout",
     "output_type": "stream",
     "text": [
      "{'b': 2, 'c': 3, 'd': 4, 'a': 1}\n",
      "OrderedDict([('b', 2), ('c', 3), ('d', 4), ('a', 1)])\n",
      "OrderedDict([('b', 5), ('c', 3), ('d', 4), ('a', 1)])\n"
     ]
    }
   ],
   "source": [
    "from collections import OrderedDict\n",
    "\n",
    "\n",
    "## in versions before python 3.7, the order was not remembered by the dict\n",
    "## so OrderedDict was made\n",
    "## but now, no need of Orderdict\n",
    "## normal dictionary remembers that\n",
    "\n",
    "ordinary_dict = {}\n",
    "ordinary_dict['b']=2\n",
    "ordinary_dict['c']=3\n",
    "ordinary_dict['d']=4\n",
    "ordinary_dict['a']=1\n",
    "\n",
    "print(ordinary_dict)\n",
    "\n",
    "ordinary_dict = OrderedDict()\n",
    "\n",
    "ordinary_dict['b']=2\n",
    "ordinary_dict['c']=3\n",
    "ordinary_dict['d']=4\n",
    "ordinary_dict['a']=1  \n",
    "print(ordinary_dict)\n",
    "\n",
    "ordinary_dict['b']=5\n",
    "print(ordinary_dict)\n"
   ]
  },
  {
   "cell_type": "code",
   "execution_count": null,
   "metadata": {},
   "outputs": [],
   "source": []
  },
  {
   "cell_type": "markdown",
   "metadata": {},
   "source": [
    "## defaultdict\n",
    "The defaultdict is a container that's similar to the usual dict container, but the only difference is that a defaultdict will have a default value if that key has not been set yet. If you didn't use a defaultdict you'd have to check to see if that key exists, and if it doesn't, set it to what you want"
   ]
  },
  {
   "cell_type": "code",
   "execution_count": 44,
   "metadata": {},
   "outputs": [
    {
     "name": "stdout",
     "output_type": "stream",
     "text": [
      "defaultdict(<class 'int'>, {'a': 1, 'b': 2})\n",
      "1\n",
      "0\n",
      "dict_items([('yellow', [1, 4]), ('blue', [2]), ('green', [3])])\n",
      "[1, 4]\n"
     ]
    }
   ],
   "source": [
    "from collections import defaultdict\n",
    "d = defaultdict(int)  ## default type is the int type, use can also set the flaot value here\n",
    "## for int-> default value is 0\n",
    "## for float -> default value is 0.0\n",
    "## for list -> default will be empty list ->[]\n",
    "d['a'] = 1\n",
    "d['b']=2\n",
    "print(d)\n",
    "print(d['a'])\n",
    "print(d['c'])   ## since c not there, so will give the default value of the integer\n",
    "## here in  this case, the default value is set to 0\n",
    "\n",
    "\n",
    "## if you would have used normal dict, and accessing the item thats not there in the dict\n",
    "## error would have printed\n",
    "\n",
    "\n",
    "##=========================================================\n",
    "\n",
    "d = defaultdict(list)\n",
    "s = [('yellow',1), ('blue',2), ('green',3),('yellow',4)]\n",
    "\n",
    "for i,j in s:\n",
    "    d[i].append(j)\n",
    "\n",
    "print(d.items())   \n",
    "print(d['yellow'])\n",
    "\n"
   ]
  },
  {
   "cell_type": "code",
   "execution_count": null,
   "metadata": {},
   "outputs": [],
   "source": []
  },
  {
   "cell_type": "markdown",
   "metadata": {},
   "source": [
    "## Deque\n",
    "A deque is a double-ended queue. It can be used to add or remove elements from both ends. Deques support thread safe, memory efficient appends and pops from either side of the deque with approximately the same O(1) performance in either direction. The more commonly used stacks and queues are degenerate forms of deques, where the inputs and outputs are restricted to a single end"
   ]
  },
  {
   "cell_type": "code",
   "execution_count": 1,
   "metadata": {},
   "outputs": [
    {
     "name": "stdout",
     "output_type": "stream",
     "text": [
      "deque([1, 2])\n",
      "deque([4, [3, 5], 1, 2])\n",
      "deque([4, [3, 5], 1])\n",
      "deque([[3, 5], 1])\n",
      "deque([1])\n",
      "deque([])\n",
      "deque(['a', 'b', 'c', 'd', 'e', 'f', 'g', 'h'])\n",
      "deque([3, 2, 1, 'a', 'b', 'c', 'd', 'e', 'f', 'g', 'h'])\n",
      "h-> 1\n",
      "0\n",
      "1\n",
      "deque([3, 2, 1, 'a', 'b', 'c', 'd', 'e', 'f', 'g', 'h'])\n",
      "deque(['h', 3, 2, 1, 'a', 'b', 'c', 'd', 'e', 'f', 'g'])\n",
      "deque([3, 2, 1, 'a', 'b', 'c', 'd', 'e', 'f', 'g', 'h'])\n",
      "deque([1, 'a', 'b', 'c', 'd', 'e', 'f', 'g', 'h', 3, 2])\n"
     ]
    }
   ],
   "source": [
    "from collections import deque\n",
    "d = deque()\n",
    "\n",
    "d.append(1)\n",
    "d.append(2)\n",
    "print(d)\n",
    "\n",
    "d.appendleft([3,5])\n",
    "d.appendleft(4)\n",
    "print(d)\n",
    "\n",
    "d.pop()\n",
    "print(d)\n",
    "\n",
    "d.popleft()\n",
    "print(d)\n",
    "\n",
    "d.popleft()\n",
    "print(d)\n",
    "\n",
    "d.clear()\n",
    "print(d)\n",
    "\n",
    "\n",
    "##\n",
    "\n",
    "d = deque(['a','b','c','d','e'])\n",
    "\n",
    "## extending the deque\n",
    "d.extend(['f','g','h'])\n",
    "\n",
    "print(d)\n",
    "\n",
    "d.extendleft([1,2,3])  ## see the order, how they are added\n",
    "print(d)\n",
    "\n",
    "print(\"h->\",d.count('h'))\n",
    "\n",
    "\n",
    "#================================\n",
    "d = deque([[3, 5], 1])\n",
    "print(d.count(3))  ## count of 3 is zero here, since [3,5] will be counted as one\n",
    "## and not 3 and 5 counted as one\n",
    "\n",
    "d = deque([[3, 5], 1,3,5])\n",
    "print(d.count(3))\n",
    "\n",
    "\n",
    "## rotating the deque\n",
    "d = deque([3, 2, 1, 'a', 'b', 'c', 'd', 'e', 'f', 'g', 'h'])\n",
    "print(d)\n",
    "d.rotate(1)  ## rotate 1 position to right\n",
    "print(d)\n",
    "\n",
    "#===============================================\n",
    "d = deque([3, 2, 1, 'a', 'b', 'c', 'd', 'e', 'f', 'g', 'h'])\n",
    "print(d)\n",
    "d.rotate(-2)  ## rotate 2 position to left\n",
    "print(d)\n",
    "\n"
   ]
  },
  {
   "cell_type": "code",
   "execution_count": 4,
   "metadata": {},
   "outputs": [
    {
     "data": {
      "text/plain": [
       "4"
      ]
     },
     "execution_count": 4,
     "metadata": {},
     "output_type": "execute_result"
    }
   ],
   "source": [
    "from collections import deque\n",
    "d = deque()\n",
    "d= deque([1,2,3,3,3,3])\n",
    "d.count(3)\n",
    "\n"
   ]
  },
  {
   "cell_type": "code",
   "execution_count": 10,
   "metadata": {},
   "outputs": [
    {
     "name": "stdout",
     "output_type": "stream",
     "text": [
      " 4\n"
     ]
    }
   ],
   "source": [
    "list_of_words=['Cars', 'Cats', 'Flowers', 'Cats','Cats','Cats']\n",
    "from collections import Counter\n",
    "c = Counter(list_of_words)\n",
    "c.most_common()\n",
    "print (\"\",list(c.most_common())[0][1])"
   ]
  },
  {
   "cell_type": "code",
   "execution_count": null,
   "metadata": {},
   "outputs": [],
   "source": []
  }
 ],
 "metadata": {
  "interpreter": {
   "hash": "6b6e8e5f654a8e9bb9e69623dd15cf09cd0bf1a8f120d3fdbf2d2c9cdde81e19"
  },
  "kernelspec": {
   "display_name": "Python 3.6.13 64-bit ('gpu': conda)",
   "language": "python",
   "name": "python3"
  },
  "language_info": {
   "codemirror_mode": {
    "name": "ipython",
    "version": 3
   },
   "file_extension": ".py",
   "mimetype": "text/x-python",
   "name": "python",
   "nbconvert_exporter": "python",
   "pygments_lexer": "ipython3",
   "version": "3.6.13"
  },
  "orig_nbformat": 4
 },
 "nbformat": 4,
 "nbformat_minor": 2
}
