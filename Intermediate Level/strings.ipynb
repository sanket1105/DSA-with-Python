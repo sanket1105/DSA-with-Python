{
 "cells": [
  {
   "cell_type": "markdown",
   "metadata": {},
   "source": [
    "## strings\n",
    "space in the word is also treated as a character in the string"
   ]
  },
  {
   "cell_type": "code",
   "execution_count": 3,
   "metadata": {},
   "outputs": [
    {
     "name": "stdout",
     "output_type": "stream",
     "text": [
      "Hello\n",
      "Hello\n",
      "Hello I'm Sanket \n"
     ]
    }
   ],
   "source": [
    "my_string = \"Hello\"\n",
    "print(my_string)\n",
    "\n",
    "my_string = 'Hello'\n",
    "print(my_string)\n",
    "\n",
    "my_string = \"Hello I\\'m Sanket \"\n",
    "print(my_string)"
   ]
  },
  {
   "cell_type": "code",
   "execution_count": 1,
   "metadata": {},
   "outputs": [
    {
     "name": "stdout",
     "output_type": "stream",
     "text": [
      "Hello I'm 'Sanket' \n"
     ]
    }
   ],
   "source": [
    "## to avoid getting confused, use \\ before the quotation marks\n",
    "\n",
    "my_string = \"Hello I\\'m \\'Sanket\\' \"\n",
    "print(my_string)\n"
   ]
  },
  {
   "cell_type": "code",
   "execution_count": 2,
   "metadata": {},
   "outputs": [
    {
     "name": "stdout",
     "output_type": "stream",
     "text": [
      " Hello I am Sanket, revising basics of \n",
      "python.\n",
      "Learning from scratch\n"
     ]
    }
   ],
   "source": [
    "## use triple quotes for multiple-line strings\n",
    "\n",
    "## Triple quotes can also be used to write multiple line comments\n",
    "'''      '''\n",
    "\n",
    "my_string =\"\"\" Hello I am Sanket, revising basics of \n",
    "python.\n",
    "Learning from scratch\"\"\"\n",
    "\n",
    "print(my_string)"
   ]
  },
  {
   "cell_type": "markdown",
   "metadata": {},
   "source": [
    "## Slicing\n"
   ]
  },
  {
   "cell_type": "code",
   "execution_count": 8,
   "metadata": {},
   "outputs": [
    {
     "name": "stdout",
     "output_type": "stream",
     "text": [
      "H\n",
      "el\n",
      "Hello\n",
      "World\n",
      "HloWrd\n",
      "dlroW olleH\n"
     ]
    }
   ],
   "source": [
    "my_string = \"Hello World\"\n",
    "\n",
    "# get character by referring to index\n",
    "b = my_string[0]\n",
    "print(b)\n",
    "\n",
    "# Substrings with slicing\n",
    "b = my_string[1:3] # Note that the last index is not included\n",
    "print(b)\n",
    "\n",
    "b = my_string[:5] # from beginning\n",
    "print(b)\n",
    "\n",
    "b = my_string[6:] # until the end\n",
    "print(b)\n",
    "\n",
    "b = my_string[::2] # start to end with every second item\n",
    "print(b)\n",
    "\n",
    "b = my_string[::-1] # reverse the string with a negative step:\n",
    "print(b)"
   ]
  },
  {
   "cell_type": "markdown",
   "metadata": {},
   "source": [
    "## Concatenate 2 strings"
   ]
  },
  {
   "cell_type": "code",
   "execution_count": 10,
   "metadata": {},
   "outputs": [
    {
     "name": "stdout",
     "output_type": "stream",
     "text": [
      "Sanket Zanwar\n"
     ]
    }
   ],
   "source": [
    "string1 = \"Sanket\"\n",
    "string2 = \"Zanwar\"\n",
    "\n",
    "print(string1+\" \"+string2)"
   ]
  },
  {
   "cell_type": "markdown",
   "metadata": {},
   "source": [
    "## iterating"
   ]
  },
  {
   "cell_type": "code",
   "execution_count": 4,
   "metadata": {},
   "outputs": [
    {
     "name": "stdout",
     "output_type": "stream",
     "text": [
      "S\n",
      "a\n",
      "n\n",
      "k\n",
      "e\n",
      "t\n",
      "{'e', 'S', 'n', 't', 'a', 'k'}\n"
     ]
    }
   ],
   "source": [
    "my_string = \"Sanket\"\n",
    "\n",
    "for i in my_string:\n",
    "    print(i)\n",
    "\n",
    "print(set(my_string))"
   ]
  },
  {
   "cell_type": "markdown",
   "metadata": {},
   "source": [
    "## checking if character or substring exists"
   ]
  },
  {
   "cell_type": "code",
   "execution_count": 5,
   "metadata": {},
   "outputs": [
    {
     "name": "stdout",
     "output_type": "stream",
     "text": [
      "hurray, its there\n"
     ]
    }
   ],
   "source": [
    "my_string = \" sanket zanwar from India\"\n",
    "if \"San\" in my_string:\n",
    "    print(\"yes,its there\")\n",
    "\n",
    "if \"t z\" in my_string:\n",
    "    print(\"hurray, its there\")    "
   ]
  },
  {
   "cell_type": "markdown",
   "metadata": {},
   "source": [
    "## stripping of extra spaces from string"
   ]
  },
  {
   "cell_type": "code",
   "execution_count": 7,
   "metadata": {},
   "outputs": [
    {
     "name": "stdout",
     "output_type": "stream",
     "text": [
      "Sanket Zanwar.\n",
      "Sanket Zanwar  .\n",
      "          Sanket Zanwar.\n",
      "13\n",
      "SANKET ZANWAR\n",
      "sanket zanwar\n",
      "False\n",
      "False\n",
      "True\n",
      "True\n",
      "2\n",
      "-1\n",
      "2\n",
      "Shankii Zanwar from India\n"
     ]
    }
   ],
   "source": [
    "my_string = \"          Sanket Zanwar  \"\n",
    "my_string = my_string.strip()  ## by deafult, inplace==False\n",
    "print(my_string+\".\")  ## extra spaces from left and right got removed\n",
    "\n",
    "\n",
    "## left strip  -> strip extra spaces from just left\n",
    "my_string = \"          Sanket Zanwar  \"\n",
    "print(my_string.lstrip()+\".\")\n",
    "\n",
    "## right strip -> strip extra spaces from just right\n",
    "my_string = \"          Sanket Zanwar  \"\n",
    "print(my_string.rstrip()+\".\")\n",
    "\n",
    "\n",
    "my_string = my_string.strip()\n",
    "print(len(my_string))\n",
    "\n",
    "print(my_string.upper()) ## all in upper case\n",
    "print(my_string.lower()) ## all in lower case\n",
    "\n",
    "print(my_string.isupper())  ## is in upper letters\n",
    "print(my_string.islower())  ## is in lower letters\n",
    "\n",
    "\n",
    "\n",
    "## starts and ends with\n",
    "print(\"hello\".startswith('hel'))  ## true if hello starts with 'hel'\n",
    "print(\"hello\".endswith('llo'))  ## true if hello ends with 'llo'\n",
    "\n",
    "## index of the character\n",
    "print(\"hello\".find('l'))  ## 2th index\n",
    "## l came 2 times. will return the index when l came for first time\n",
    "\n",
    "print(\"hello\".find('5'))  ## -1 th index\n",
    "## if not there, then returns -1 as the answer\n",
    "\n",
    "## count number of times a character occured\n",
    "print(\"Hello\".count(\"l\"))\n",
    "\n",
    "\n",
    "## replacing a sub string with a diff string\n",
    "\n",
    "message=\"Sanket Zanwar from India\"\n",
    "message = message.replace(\"Sanket\",\"Shankii\")  ## by deafult, inplace==False\n",
    "print(message)"
   ]
  },
  {
   "cell_type": "markdown",
   "metadata": {},
   "source": [
    "## Splitting the string"
   ]
  },
  {
   "cell_type": "code",
   "execution_count": 18,
   "metadata": {},
   "outputs": [
    {
     "name": "stdout",
     "output_type": "stream",
     "text": [
      "Sanket from India\n",
      "one:2,3\n"
     ]
    }
   ],
   "source": [
    "my_string = \" Sanket from India \"\n",
    "a = my_string.strip()   ## by default, strips at \"\"\n",
    "print(a)\n",
    "\n",
    "## if the leading charcters given to be removed is not there in start or end of the string\n",
    "## then strip methods stops\n",
    "\n",
    "my_string = \",.,one:2,3..:.,:\"\n",
    "a = my_string.strip(\":,.\") ## here , is not in the start or end, so no strip is performed\n",
    "print(a)  "
   ]
  },
  {
   "cell_type": "markdown",
   "metadata": {},
   "source": [
    "https://www.programiz.com/python-programming/methods/string/strip\n",
    "\n",
    "## check this link out"
   ]
  },
  {
   "cell_type": "code",
   "execution_count": 2,
   "metadata": {},
   "outputs": [
    {
     "name": "stdout",
     "output_type": "stream",
     "text": [
      ",,,,,rrttgg.....banana....\n",
      "ttgg.....banana....\n",
      ",,,,,rrttgg.....banana....rrr\n",
      "ttgg.....banana\n"
     ]
    }
   ],
   "source": [
    "txt = \",,,,,rrttgg.....banana....rrr\"\n",
    "\n",
    "x = txt.strip(\"r\")  ## remove these characters from txt\n",
    "## r not in the fornt, in the back, so removes r from back\n",
    "print(x)\n",
    "\n",
    "\n",
    "txt = \",,,,,rrttgg.....banana....rrr\"\n",
    "\n",
    "x = txt.strip(\",r\") ## , and r in front and r in back\n",
    "## so removes ,r from front and r from back\n",
    "print(x)\n",
    "\n",
    "txt = \",,,,,rrttgg.....banana....rrr\"\n",
    "x = txt.strip(\"tg\") ## since t and g are not in front or end ogf the string, notyhing happens\n",
    "print(x)\n",
    "\n",
    "\n",
    "txt = \",,,,,rrttgg.....banana....rrr\"\n",
    "x = txt.strip(\",rg.\")  ## , and r removed, \n",
    "## so new text becomes  ttgg.....banana....  -> now g is not in start or end\n",
    "## so no stripping for g\n",
    "## stripping goes on for '.' character\n",
    "print(x)"
   ]
  },
  {
   "cell_type": "markdown",
   "metadata": {},
   "source": [
    "## Format style of printing"
   ]
  },
  {
   "cell_type": "code",
   "execution_count": 19,
   "metadata": {},
   "outputs": [
    {
     "name": "stdout",
     "output_type": "stream",
     "text": [
      "Sanket is from India\n",
      "Sanket is from India\n",
      "India is from Sanket\n",
      "the integer value is 3.2\n",
      "the integer value is 3.123\n",
      "the integer value is 3.123457e+00\n",
      "the BINARY value is 11\n",
      "hello Sanket from India\n",
      "The decimal value is 3\n",
      "The float value is 3.142857\n",
      "The float value is 3.14\n"
     ]
    }
   ],
   "source": [
    "a = '{0} is from {1}'.format(\"Sanket\",\"India\")\n",
    "print(a)\n",
    "\n",
    "a = '{} is from {}'.format(\"Sanket\",\"India\")  ## order is optional to provdide\n",
    "print(a)\n",
    "\n",
    "a = '{1} is from {0}'.format(\"Sanket\",\"India\")\n",
    "print(a)\n",
    "\n",
    "a = 'the integer value is {}'.format(3.2)\n",
    "print(a)\n",
    "\n",
    "## special values to write the floating numbers\n",
    "a = 'the integer value is {0:.3f}'.format(3.123456)  ## after decimal, 3 places\n",
    "print(a)\n",
    "\n",
    "a = 'the integer value is {0:e}'.format(3.123456789)\n",
    "print(a)\n",
    "\n",
    "## for getting the binary value of any integer\n",
    "a = 'the BINARY value is {0:b}'.format(3)\n",
    "print(a)\n",
    "\n",
    "\n",
    "## old way for formatting\n",
    "print(\"hello %s from %s\" %(\"Sanket\",\"India\"))  ## the arguments must be provided in the tuple only\n",
    "\n",
    "\n",
    "val =  float(22/7)\n",
    "print(\"The decimal value is %d\" % val)\n",
    "print(\"The float value is %f\" % val)\n",
    "print(\"The float value is %.2f\" % val)"
   ]
  },
  {
   "cell_type": "markdown",
   "metadata": {},
   "source": [
    "## New way of formatting"
   ]
  },
  {
   "cell_type": "code",
   "execution_count": 86,
   "metadata": {},
   "outputs": [
    {
     "name": "stdout",
     "output_type": "stream",
     "text": [
      "Hello, Eric. You are 25.\n",
      "Pi is 3.142\n",
      "The value is 120\n"
     ]
    }
   ],
   "source": [
    "name = \"Eric\"\n",
    "age = 25\n",
    "a = f\"Hello, {name}. You are {age}.\"\n",
    "print(a)\n",
    "\n",
    "pi = 3.14159\n",
    "a = f\"Pi is {pi:.3f}\"\n",
    "print(a)\n",
    "\n",
    "# f-Strings are evaluated at runtime, which allows expressions\n",
    "a = f\"The value is {2*60}\"\n",
    "print(a)"
   ]
  },
  {
   "cell_type": "markdown",
   "metadata": {},
   "source": [
    "## time for creating and joining the strings"
   ]
  },
  {
   "cell_type": "code",
   "execution_count": 21,
   "metadata": {},
   "outputs": [
    {
     "name": "stdout",
     "output_type": "stream",
     "text": [
      "Wall time: 0 ns\n",
      "concatenate string with + : 0.17341\n",
      "concatenate string with join(): 0.00488\n"
     ]
    }
   ],
   "source": [
    "# since a string is immutable, adding strings with +,  or += always \n",
    "# creates a new string, and therefore is expensive for multiple operations\n",
    "# --> join method is much faster\n",
    "\n",
    "from timeit import default_timer as timer\n",
    "my_list = [\"a\"] * 1000000\n",
    "\n",
    "# bad\n",
    "start = timer()\n",
    "a = \"\"\n",
    "for i in my_list:\n",
    "    a += i\n",
    "end = timer()\n",
    "print(\"concatenate string with + : %.5f\" % (end - start))\n",
    "\n",
    "# good\n",
    "start = timer()\n",
    "a = \"\".join(my_list)\n",
    "end = timer()\n",
    "print(\"concatenate string with join(): %.5f\" % (end - start))"
   ]
  },
  {
   "cell_type": "code",
   "execution_count": 28,
   "metadata": {},
   "outputs": [
    {
     "name": "stdout",
     "output_type": "stream",
     "text": [
      "abcdef\n",
      "dabceabcf\n"
     ]
    }
   ],
   "source": [
    "a = \"abc\"\n",
    "b = \"def\"\n",
    "a = \"\".join([a,b])  ## will give proper answer as abcdef\n",
    "print(a)\n",
    "\n",
    "\n",
    "a = \"abc\"\n",
    "b = \"def\"\n",
    "a = a.join(b)  ## some weird answer, we use a.join so after every character in b, it will apped a -> d abc e abc f -> thats the answer\n",
    "print(a)"
   ]
  },
  {
   "cell_type": "code",
   "execution_count": 33,
   "metadata": {},
   "outputs": [
    {
     "name": "stdout",
     "output_type": "stream",
     "text": [
      "1001\n"
     ]
    }
   ],
   "source": [
    "print(\"{0:b}\".format(9))"
   ]
  },
  {
   "cell_type": "code",
   "execution_count": null,
   "metadata": {},
   "outputs": [],
   "source": []
  }
 ],
 "metadata": {
  "kernelspec": {
   "display_name": "Python 3.8.8 ('base')",
   "language": "python",
   "name": "python3"
  },
  "language_info": {
   "codemirror_mode": {
    "name": "ipython",
    "version": 3
   },
   "file_extension": ".py",
   "mimetype": "text/x-python",
   "name": "python",
   "nbconvert_exporter": "python",
   "pygments_lexer": "ipython3",
   "version": "3.8.8"
  },
  "orig_nbformat": 4,
  "vscode": {
   "interpreter": {
    "hash": "8ad7fe1a5b4c0b883379725865773749d83e55b78fa78dde0d87f0960d2fd4ea"
   }
  }
 },
 "nbformat": 4,
 "nbformat_minor": 2
}
