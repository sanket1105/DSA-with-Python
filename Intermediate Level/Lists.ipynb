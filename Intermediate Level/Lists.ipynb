{
 "cells": [
  {
   "cell_type": "markdown",
   "metadata": {},
   "source": [
    "Lists are ordered and mutable.\n",
    "\n",
    "\n",
    "Can have duplicate values"
   ]
  },
  {
   "cell_type": "markdown",
   "metadata": {},
   "source": [
    "## instead of changing values to true of false: use append method, in that way run time will be very less"
   ]
  },
  {
   "cell_type": "code",
   "execution_count": 1,
   "metadata": {},
   "outputs": [
    {
     "name": "stdout",
     "output_type": "stream",
     "text": [
      "[1, 2, 3]\n",
      "[]\n",
      "['Sanket', 'Zanwar', 1, 2, 3]\n"
     ]
    }
   ],
   "source": [
    "list1 = [1,2,3]\n",
    "print(list1)\n",
    "\n",
    "list2 = list() ## inbuilt function to convert to list\n",
    "print(list2)\n",
    "\n",
    "list3 = list(['Sanket','Zanwar',1,2,3])\n",
    "print(list3)\n"
   ]
  },
  {
   "cell_type": "code",
   "execution_count": 7,
   "metadata": {},
   "outputs": [
    {
     "name": "stdout",
     "output_type": "stream",
     "text": [
      "Sanket\n",
      "3\n"
     ]
    }
   ],
   "source": [
    "print(list3[0])  ## first element\n",
    "print(list3[-1])  ## last element"
   ]
  },
  {
   "cell_type": "code",
   "execution_count": 8,
   "metadata": {},
   "outputs": [
    {
     "name": "stdout",
     "output_type": "stream",
     "text": [
      "['Sanket', 'Nanded', 1, 2, 3]\n"
     ]
    }
   ],
   "source": [
    "list3[1]='Nanded'  ## 1 changed to Nanded\n",
    "print(list3)"
   ]
  },
  {
   "cell_type": "markdown",
   "metadata": {},
   "source": [
    "https://docs.python.org/3/tutorial/datastructures.html\n",
    "\n",
    "Refer to this documentation link"
   ]
  },
  {
   "cell_type": "code",
   "execution_count": 15,
   "metadata": {},
   "outputs": [
    {
     "name": "stdout",
     "output_type": "stream",
     "text": [
      "Length: 3\n",
      "['banana', 'blueberry', 'cherry', 'apple', 'orange']\n",
      "Popped item:  orange\n",
      "['banana', 'blueberry', 'cherry', 'apple']\n",
      "['banana', 'blueberry', 'apple']\n",
      "['banana', 'blueberry', 'banana', 'apple']\n",
      "['blueberry', 'banana', 'apple']\n",
      "[]\n",
      "Reversed:  ['apple', 'cherry', 'banana']\n",
      "Sorted:  ['apple', 'banana', 'cherry']\n",
      "concatenated list:  ['banana', 'cherry', 'apple', 'Sanket']\n",
      "sorted list:  ['Sanket', 'apple', 'banana', 'cherry']\n",
      "[0, 0, 0, 0, 0]\n",
      "[0, 0, 0, 0, 0, 'banana', 'cherry', 'apple', 'Sanket']\n",
      "['H', 'e', 'l', 'l', 'o']\n"
     ]
    }
   ],
   "source": [
    "my_list = [\"banana\", \"cherry\", \"apple\"]\n",
    "\n",
    "# len() : get the number of elements in a list\n",
    "print(\"Length:\", len(my_list))\n",
    "\n",
    "# append() : adds an element to the end of the list\n",
    "my_list.append(\"orange\") \n",
    "\n",
    "# insert() : adds an element at the specified position\n",
    "my_list.insert(1, \"blueberry\")  \n",
    "print(my_list)\n",
    "\n",
    "\n",
    "# pop() : removes and returns the item at the given position, default is the last item\n",
    "item = my_list.pop()\n",
    "print(\"Popped item: \", item)\n",
    "print(my_list)\n",
    "\n",
    "# remove() : removes an item from the list\n",
    "my_list.remove(\"cherry\") # Value error if not in the list\n",
    "print(my_list)\n",
    "\n",
    "## remove will delete the first appearance of the element inserted, to remove multiple occurences, use set()\n",
    "my_list.insert(2,'banana')\n",
    "print(my_list)\n",
    "my_list.remove('banana')\n",
    "print(my_list)\n",
    "\n",
    "\n",
    "# clear() : removes all items from the list\n",
    "my_list.clear()\n",
    "print(my_list)\n",
    "\n",
    "# reverse() : reverse the items\n",
    "my_list = [\"banana\", \"cherry\", \"apple\"]\n",
    "my_list.reverse()\n",
    "print('Reversed: ', my_list)\n",
    "\n",
    "# sort() : sort items in ascending order\n",
    "my_list.sort()\n",
    "print('Sorted: ', my_list)\n",
    "\n",
    "# use sorted() to get a new list, and leaves the original list unaffected.\n",
    "# sorted() works on any iterable type, not just lists\n",
    "my_list = [\"banana\", \"cherry\", \"apple\"]\n",
    "new_list = sorted(my_list)\n",
    "\n",
    "new_list_1 = [\"Sanket\"]\n",
    "my_list.extend(new_list_1)  ## same as concatenation of 2 lists\n",
    "print(\"concatenated list: \",my_list)\n",
    "print(\"sorted list: \", sorted(my_list))\n",
    "## while sorting, first preference given to Capital letters, then small letters\n",
    "## list with combination of numbers and strings cannot be sorted\n",
    "\n",
    "\n",
    "\n",
    "# create list with repeated elements\n",
    "list_with_zeros = [0] * 5\n",
    "print(list_with_zeros)\n",
    "\n",
    "# concatenation\n",
    "list_concat = list_with_zeros + my_list   ## list_with_zeros.extend(my_list)\n",
    "print(list_concat)\n",
    "\n",
    "# convert string to list\n",
    "string_to_list = list('Hello')\n",
    "print(string_to_list)"
   ]
  },
  {
   "cell_type": "code",
   "execution_count": 10,
   "metadata": {},
   "outputs": [
    {
     "name": "stdout",
     "output_type": "stream",
     "text": [
      "[[1, 1, 0], [0, 0, 1]]\n"
     ]
    }
   ],
   "source": [
    "l = [[1,0,0],[0,1,1]]\n",
    "for i in range(len(l)):\n",
    "     l[i].reverse()\n",
    "     for j in range(len(l[i])):\n",
    "         l[i][j] = 1 -(l[i][j])     \n",
    "\n",
    "\n",
    "\n",
    "print(l)    "
   ]
  },
  {
   "cell_type": "code",
   "execution_count": 6,
   "metadata": {},
   "outputs": [
    {
     "data": {
      "text/plain": [
       "('123', '1.2.3')"
      ]
     },
     "execution_count": 6,
     "metadata": {},
     "output_type": "execute_result"
    }
   ],
   "source": [
    "a = [1,2,3]\n",
    "k = \"\".join(str(i) for i in a)\n",
    "s = \".\".join(str(i) for i in a)\n",
    "k,s\n"
   ]
  },
  {
   "cell_type": "code",
   "execution_count": 3,
   "metadata": {},
   "outputs": [
    {
     "name": "stdout",
     "output_type": "stream",
     "text": [
      "[1, 2, 3]\n"
     ]
    },
    {
     "data": {
      "text/plain": [
       "'123'"
      ]
     },
     "execution_count": 3,
     "metadata": {},
     "output_type": "execute_result"
    }
   ],
   "source": [
    "a = [1,2,3]\n",
    "k = \"\".join(map(str,a))\n",
    "k"
   ]
  },
  {
   "cell_type": "code",
   "execution_count": 7,
   "metadata": {},
   "outputs": [
    {
     "name": "stdout",
     "output_type": "stream",
     "text": [
      "{'d', 'f', 'a', 'b', 'c', 'e'}\n"
     ]
    }
   ],
   "source": [
    "l = 'abcdef'\n",
    "print(set(l))\n",
    "\n",
    "## order of elements in set is not defined"
   ]
  },
  {
   "cell_type": "code",
   "execution_count": 10,
   "metadata": {},
   "outputs": [
    {
     "name": "stdout",
     "output_type": "stream",
     "text": [
      "97\n",
      "122\n",
      "[97, 98, 99, 100, 101, 102, 103, 104, 105, 106, 107, 108, 109, 110, 111, 112, 113, 114, 115, 116, 117, 118, 119, 120, 121, 122]\n",
      "26\n",
      "2847\n"
     ]
    },
    {
     "data": {
      "text/plain": [
       "122"
      ]
     },
     "execution_count": 10,
     "metadata": {},
     "output_type": "execute_result"
    }
   ],
   "source": [
    "print(ord('a'))  ## ascii value\n",
    "print(ord('z'))\n",
    "\n",
    "l = [ i for i  in range(97,123)]\n",
    "print(l)\n",
    "print(len(l))\n",
    "print(sum(l))\n",
    "max(l)"
   ]
  },
  {
   "cell_type": "code",
   "execution_count": null,
   "metadata": {},
   "outputs": [
    {
     "name": "stdout",
     "output_type": "stream",
     "text": [
      "['Goa', 'Nanded', 'Sanket']\n",
      "['Sanket', 'Nanded', 'Goa']\n"
     ]
    }
   ],
   "source": [
    "list1 = ['Sanket','Nanded','Goa']\n",
    "print(sorted(list1))  ## sorted the list\n",
    "\n",
    "print(list1)  ## no effect on the original list"
   ]
  },
  {
   "cell_type": "markdown",
   "metadata": {},
   "source": [
    "## Copying a list\n",
    "Be careful while copying a list"
   ]
  },
  {
   "cell_type": "code",
   "execution_count": 11,
   "metadata": {},
   "outputs": [
    {
     "name": "stdout",
     "output_type": "stream",
     "text": [
      "['Sanket', 'Zanwar', 'MH', 'India']\n",
      "['Sanket', 'Zanwar', 'MH', 'India']\n",
      "['Sanket', 'Zanwar', 'MH']\n",
      "['Sanket', 'Zanwar', 'MH', 'India']\n"
     ]
    }
   ],
   "source": [
    "list1 = ['Sanket','Zanwar','MH']\n",
    "\n",
    "list2 = list1\n",
    "\n",
    "## since 2nd list just made equal to\n",
    "## so modifying the second list will also affect the original list\n",
    "\n",
    "list2.append('India')\n",
    "print(list1)\n",
    "print(list2)\n",
    "\n",
    "#=============================================\n",
    "list_main = ['Sanket','Zanwar','MH']\n",
    "list_copy = list_main.copy()\n",
    "\n",
    "list_copy.append(\"India\")\n",
    "print(list_main)  ## no changes in the original list\n",
    "print(list_copy)\n"
   ]
  },
  {
   "cell_type": "code",
   "execution_count": 15,
   "metadata": {},
   "outputs": [
    {
     "name": "stdout",
     "output_type": "stream",
     "text": [
      "['Sanket', 'Zanwar', 'MH']\n",
      "Sanket\n",
      "Zanwar\n",
      "MH\n",
      "############################ \n",
      "\n",
      "Sanket Zanwar MH \n",
      "############################ \n",
      "\n",
      "Sanket \n",
      "Zanwar \n",
      "MH \n"
     ]
    }
   ],
   "source": [
    "## Iterating over a list\n",
    "\n",
    "print(list_main)\n",
    "\n",
    "for i in list_main:\n",
    "    print(i)  ## prints the value in diff lines\n",
    "\n",
    "print(\"############################ \\n\")\n",
    "\n",
    "for i in list_main:\n",
    "    print(i,end=\" \")  ## print in the same line\n",
    "\n",
    "print(\"\\n############################ \\n\")\n",
    "\n",
    "## another way of printing in seperate lines\n",
    "for i in list_main:\n",
    "    print(i,end=\" \")  ## print in the same line\n",
    "    print(\"\")  ## adds a blank line\n"
   ]
  },
  {
   "cell_type": "markdown",
   "metadata": {},
   "source": [
    "## Slicing\n",
    "Accessing the sub parts of list"
   ]
  },
  {
   "cell_type": "code",
   "execution_count": 17,
   "metadata": {},
   "outputs": [
    {
     "name": "stdout",
     "output_type": "stream",
     "text": [
      "[2, 3]\n",
      "[3, 4, 5, 6, 7, 8, 9, 10]\n",
      "[1, 2, 3]\n",
      "[0, 4, 5, 6, 7, 8, 9, 10]\n",
      "[0, 0, 0, 6, 7, 8, 9, 10]\n",
      "[1, 3, 5, 7, 9]\n",
      "[9, 8, 7, 6, 5, 4, 3, 2, 1]\n",
      "[9, 8, 7, 6, 5, 4, 3, 2, 1]\n",
      "[9, 8, 7, 6, 5, 4, 3, 2, 1]\n"
     ]
    },
    {
     "data": {
      "text/plain": [
       "[100, 8, 7, 6, 5, 4, 3, 2, 1]"
      ]
     },
     "execution_count": 17,
     "metadata": {},
     "output_type": "execute_result"
    }
   ],
   "source": [
    "# a[start:stop:step], default step is 1\n",
    "## start and stop are the index positions\n",
    "\n",
    "a = [1, 2, 3, 4, 5, 6, 7, 8, 9, 10]\n",
    "\n",
    "b = a[1:3] # Note that the last index is not included\n",
    "print(b) \n",
    "\n",
    "b = a[2:] # until the end\n",
    "print(b) \n",
    "\n",
    "b = a[:3] # from beginning\n",
    "print(b)\n",
    "\n",
    "\n",
    "'''\n",
    "See the steps in the below two steps\n",
    "\n",
    "'''\n",
    "\n",
    "a[0:3] = [0] # replace sub-parts, you need an iterable here\n",
    "## will replace the entries with single enrty -> 0\n",
    "print(a)\n",
    "\n",
    "a[0:3] = [0,0,0] # replace sub-parts, you need an iterable here\n",
    "## replace the entries with the zeroes\n",
    "print(a)\n",
    "\n",
    "a = [1,2,3,4,5,6,7,8,9]\n",
    "\n",
    "b = a[::2] # start to end with every second item\n",
    "print(b)\n",
    "\n",
    "a = a[::-1] # reverse the list with a negative step:\n",
    "print(a)\n",
    "\n",
    "b = a[:] # copy a list with slicing\n",
    "print(b)\n",
    "\n",
    "b[0] = 100\n",
    "print(a) ### a still remains the same since we used copy [:] function\n",
    "b"
   ]
  },
  {
   "cell_type": "markdown",
   "metadata": {},
   "source": [
    "## List Comprehension"
   ]
  },
  {
   "cell_type": "code",
   "execution_count": null,
   "metadata": {},
   "outputs": [
    {
     "data": {
      "text/plain": [
       "[4, 9, 25, 49, 121, 169, 289, 361]"
      ]
     },
     "execution_count": 24,
     "metadata": {},
     "output_type": "execute_result"
    }
   ],
   "source": [
    "a = [2,3,5,7,11,13,17,19]\n",
    "b = [ i**2 for i in a]    ## i**2 same as i*i\n",
    "b"
   ]
  },
  {
   "cell_type": "markdown",
   "metadata": {},
   "source": [
    "## Nested Loops"
   ]
  },
  {
   "cell_type": "code",
   "execution_count": null,
   "metadata": {},
   "outputs": [
    {
     "name": "stdout",
     "output_type": "stream",
     "text": [
      "[1, 2]\n",
      "1\n"
     ]
    }
   ],
   "source": [
    "a = [[1,2],[3,4]]\n",
    "print(a[0])\n",
    "print(a[0][0])"
   ]
  },
  {
   "cell_type": "code",
   "execution_count": 18,
   "metadata": {},
   "outputs": [
    {
     "name": "stdout",
     "output_type": "stream",
     "text": [
      "[1 4 9]\n",
      "[2 4 6]\n"
     ]
    }
   ],
   "source": [
    "import numpy as np\n",
    "a = np.array([1,2,3])\n",
    "b = np.array([1,2,3])\n",
    "print(a*a)\n",
    "\n",
    "print(a+b)"
   ]
  },
  {
   "cell_type": "code",
   "execution_count": null,
   "metadata": {},
   "outputs": [],
   "source": []
  }
 ],
 "metadata": {
  "kernelspec": {
   "display_name": "Python 3.6.13 ('gputest')",
   "language": "python",
   "name": "python3"
  },
  "language_info": {
   "codemirror_mode": {
    "name": "ipython",
    "version": 3
   },
   "file_extension": ".py",
   "mimetype": "text/x-python",
   "name": "python",
   "nbconvert_exporter": "python",
   "pygments_lexer": "ipython3",
   "version": "3.6.13"
  },
  "orig_nbformat": 4,
  "vscode": {
   "interpreter": {
    "hash": "914c139996f68d185b073981459f96382266ba5f3df925a29404be19a0a7c343"
   }
  }
 },
 "nbformat": 4,
 "nbformat_minor": 2
}
