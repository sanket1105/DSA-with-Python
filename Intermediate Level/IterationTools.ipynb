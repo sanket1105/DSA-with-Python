{
 "cells": [
  {
   "cell_type": "markdown",
   "metadata": {},
   "source": [
    "## Iteration Tools\n",
    "\n",
    "https://docs.python.org/3/library/itertools.html\n",
    "\n",
    "refer to this documentation and see the results used there\n",
    "\n",
    "\n",
    "Itertools are something that can be used in a for loop\n"
   ]
  },
  {
   "cell_type": "markdown",
   "metadata": {},
   "source": [
    "## Product()"
   ]
  },
  {
   "cell_type": "code",
   "execution_count": 1,
   "metadata": {},
   "outputs": [
    {
     "name": "stdout",
     "output_type": "stream",
     "text": [
      "[(1, 3), (1, 4), (2, 3), (2, 4)]\n",
      "[(1, 3, 1, 3), (1, 3, 2, 3), (1, 3, 3, 3), (2, 3, 1, 3), (2, 3, 2, 3), (2, 3, 3, 3), (3, 3, 1, 3), (3, 3, 2, 3), (3, 3, 3, 3)]\n"
     ]
    }
   ],
   "source": [
    "from itertools import product\n",
    "\n",
    "prod = product([1,2],[3,4])\n",
    "print(list(prod))\n",
    "\n",
    "# to allow the product of an iterable with itself, specify the number of repetitions\n",
    "prod = product([1,2,3],[3],repeat=2)\n",
    "print(list(prod))"
   ]
  },
  {
   "cell_type": "markdown",
   "metadata": {},
   "source": [
    "## Permutations()\n",
    "This tool returns successive length permutations of elements in an iterable, with all possible orderings, and no repeated elements."
   ]
  },
  {
   "cell_type": "code",
   "execution_count": null,
   "metadata": {},
   "outputs": [],
   "source": []
  },
  {
   "cell_type": "code",
   "execution_count": 2,
   "metadata": {},
   "outputs": [
    {
     "name": "stdout",
     "output_type": "stream",
     "text": [
      "[(1, 2, 3), (1, 3, 2), (2, 1, 3), (2, 3, 1), (3, 1, 2), (3, 2, 1)]\n",
      "<itertools.permutations object at 0x00000246CD7FBC50>\n",
      "[(1, 2), (1, 3), (1, 4), (2, 1), (2, 3), (2, 4), (3, 1), (3, 2), (3, 4), (4, 1), (4, 2), (4, 3)]\n"
     ]
    }
   ],
   "source": [
    "from itertools import permutations\n",
    "\n",
    "perm = permutations([1,2,3]) ## all elements taken at once\n",
    "print(list(perm))\n",
    "print(perm)\n",
    "\n",
    "perm = permutations([1,2,3,4],2) ## 2 elemenets taken at once\n",
    "print(list(perm))"
   ]
  },
  {
   "cell_type": "markdown",
   "metadata": {},
   "source": [
    "## combinations() and combinations_with_replacement()\n",
    "\n",
    "r-length tuples, in sorted order. So, if the input iterable is sorted, the combination tuples will be produced in sorted order. combinations() does not allow repeated elements, but combinations_with_replacement() does."
   ]
  },
  {
   "cell_type": "code",
   "execution_count": 13,
   "metadata": {},
   "outputs": [
    {
     "name": "stdout",
     "output_type": "stream",
     "text": [
      "[(1, 2), (1, 3), (1, 4), (2, 3), (2, 4), (3, 4)]\n",
      "[(1, 1), (1, 2), (1, 3), (1, 4), (2, 2), (2, 3), (2, 4), (3, 3), (3, 4), (4, 4)]\n"
     ]
    }
   ],
   "source": [
    "from itertools import combinations,combinations_with_replacement\n",
    "\n",
    "comb = combinations([1,2,3,4],2)\n",
    "print(list(comb))\n",
    "\n",
    "comb = combinations_with_replacement([1,2,3,4],2)\n",
    "print(list(comb))"
   ]
  },
  {
   "cell_type": "markdown",
   "metadata": {},
   "source": [
    "## Accumulate\n",
    "\n",
    "Make an iterator that returns accumulated sums, or accumulated results of other binary functions."
   ]
  },
  {
   "cell_type": "code",
   "execution_count": 1,
   "metadata": {},
   "outputs": [
    {
     "name": "stdout",
     "output_type": "stream",
     "text": [
      "[1, 3, 6, 10]\n",
      "[1, 2, 6, 24]\n",
      "[11, 11, 15, 15, 17, 17, 18, 18]\n"
     ]
    }
   ],
   "source": [
    "from itertools import accumulate\n",
    "\n",
    "## returns accumulated sums\n",
    "s = accumulate([1,2,3,4])  ## 1, 1+2, 1+2+3, 1+2+3+4\n",
    "print(list(s))\n",
    "\n",
    "import operator\n",
    "s = accumulate([1,2,3,4],func=operator.mul)  ##1,1*2,1*2*3,1*2*3*4\n",
    "print(list(s))\n",
    "\n",
    "s = accumulate([11,8,15,8,17,8,18,11],func=max) \n",
    "print(list(s))"
   ]
  },
  {
   "cell_type": "code",
   "execution_count": 11,
   "metadata": {},
   "outputs": [
    {
     "name": "stdout",
     "output_type": "stream",
     "text": [
      "[[1, 2, 3], [1, 2, 3, 4, 5, 6]]\n",
      "[1, 3, 6]\n",
      "6\n",
      "15\n"
     ]
    }
   ],
   "source": [
    "a = [[1,2,3],[4,5,6]]\n",
    "s = accumulate(a)\n",
    "print(list(s))\n",
    "\n",
    "print(list(accumulate(a[0])))  \n",
    "\n",
    "for i in a:\n",
    "    print(sum(i))\n",
    "        \n"
   ]
  },
  {
   "cell_type": "code",
   "execution_count": 13,
   "metadata": {},
   "outputs": [
    {
     "data": {
      "text/plain": [
       "3"
      ]
     },
     "execution_count": 13,
     "metadata": {},
     "output_type": "execute_result"
    }
   ],
   "source": [
    "a = [1,2,3]\n",
    "max(a)"
   ]
  },
  {
   "cell_type": "markdown",
   "metadata": {},
   "source": [
    "## groupby()\n",
    "Make an iterator that returns consecutive keys and groups from the iterable. The key is a function computing a key value for each element. If not specified or is None, key defaults to an identity function and returns the element unchanged. Generally, the iterable needs to already be sorted on the same key function."
   ]
  },
  {
   "cell_type": "code",
   "execution_count": 2,
   "metadata": {},
   "outputs": [
    {
     "name": "stdout",
     "output_type": "stream",
     "text": [
      "<itertools.groupby object at 0x0000026152641E58>\n",
      "True [1, 2]\n",
      "False [3, 4]\n",
      "True [1, 2]\n",
      "False [3, 4]\n",
      "True ['five', 'six']\n",
      "False ['seven']\n",
      "25 [{'name': 'Tim', 'age': 25}, {'name': 'Dan', 'age': 25}]\n",
      "27 [{'name': 'Lisa', 'age': 27}]\n",
      "28 [{'name': 'Claire', 'age': 28}]\n"
     ]
    }
   ],
   "source": [
    "from itertools import groupby\n",
    "\n",
    "## defining fn as a key\n",
    "\n",
    "def smaller_than_3(x):\n",
    "    return x<3\n",
    "\n",
    "group_obj = groupby([1,2,3,4], key=smaller_than_3)  \n",
    "print(group_obj)\n",
    "for key,group in group_obj:\n",
    "    print(key,list(group))  \n",
    "\n",
    "## can be done using lambda function also\n",
    "group_obj = groupby([1,2,3,4], key = lambda x: x<3)  \n",
    "for key,group in group_obj:\n",
    "    print(key,list(group))  \n",
    "\n",
    "group_obj = groupby(['five','six','seven'], key = lambda x: 'i' in x)  \n",
    "for key,group in group_obj:\n",
    "    print(key,list(group))  \n",
    "\n",
    "\n",
    "\n",
    "## an example in which you want to group by age of the person\n",
    "persons = [{'name': 'Tim', 'age': 25}, {'name': 'Dan', 'age': 25}, \n",
    "           {'name': 'Lisa', 'age': 27}, {'name': 'Claire', 'age': 28}]\n",
    "\n",
    "for key,group in groupby(persons, key = lambda x: x['age']):\n",
    "    print(key,list(group))           \n"
   ]
  },
  {
   "cell_type": "markdown",
   "metadata": {},
   "source": [
    "## Count, cycle, repeat iterators"
   ]
  },
  {
   "cell_type": "code",
   "execution_count": 3,
   "metadata": {},
   "outputs": [
    {
     "name": "stdout",
     "output_type": "stream",
     "text": [
      "10\n",
      "11\n",
      "12\n",
      "13\n",
      "\n",
      "1\n",
      "2\n",
      "3\n",
      "1\n",
      "2\n",
      "3\n",
      "\n",
      "A\n",
      "A\n",
      "A\n"
     ]
    }
   ],
   "source": [
    "from itertools import count,cycle,repeat\n",
    "\n",
    "\n",
    "## count(x): count from x, x+1, x+2, x+3\n",
    "for i in count(10):\n",
    "    print(i)\n",
    "    if i>=13: break\n",
    "\n",
    "\n",
    "# cycle(iterable) : cycle infinitely through an iterable\n",
    "\n",
    "print(\"\")\n",
    "sum=0\n",
    "for i in cycle([1,2,3]):\n",
    "    print(i)\n",
    "    sum += i\n",
    "    if sum>=12:\n",
    "        break    \n",
    "\n",
    "\n",
    "print(\"\")\n",
    "## repeat just repeats:\n",
    "\n",
    "for i in repeat(\"A\",3):\n",
    "    print(i)\n"
   ]
  },
  {
   "cell_type": "code",
   "execution_count": 1,
   "metadata": {},
   "outputs": [
    {
     "name": "stdout",
     "output_type": "stream",
     "text": [
      "0 1\n",
      "1 2\n",
      "2 3\n",
      "3 4\n",
      "4 4\n",
      "5 5\n",
      "6 6\n"
     ]
    }
   ],
   "source": [
    "j = [1,2,3,4,4,5,6]\n",
    "for m,n in enumerate(j):\n",
    "    print(m,n)"
   ]
  },
  {
   "cell_type": "code",
   "execution_count": null,
   "metadata": {},
   "outputs": [],
   "source": []
  }
 ],
 "metadata": {
  "kernelspec": {
   "display_name": "Python 3.6.13 ('gputest')",
   "language": "python",
   "name": "python3"
  },
  "language_info": {
   "codemirror_mode": {
    "name": "ipython",
    "version": 3
   },
   "file_extension": ".py",
   "mimetype": "text/x-python",
   "name": "python",
   "nbconvert_exporter": "python",
   "pygments_lexer": "ipython3",
   "version": "3.6.13"
  },
  "orig_nbformat": 4,
  "vscode": {
   "interpreter": {
    "hash": "914c139996f68d185b073981459f96382266ba5f3df925a29404be19a0a7c343"
   }
  }
 },
 "nbformat": 4,
 "nbformat_minor": 2
}
