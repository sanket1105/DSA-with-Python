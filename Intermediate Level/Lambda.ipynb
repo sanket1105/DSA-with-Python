{
 "cells": [
  {
   "cell_type": "markdown",
   "metadata": {},
   "source": [
    "## Lambda functions\n",
    "\n",
    "A lambda function is a small (one line) anonymous function that is defined without a name. A lambda function can take any number of arguments, but can only have one expression. While normal functions are defined using the def keyword, in Python anonymous functions are defined using the lambda keyword.\n",
    "\n",
    "lambda arguments: expression\n",
    "\n",
    "Lambda functions are used when a simple function is used only once or for a short period in your code. It's most common use is as an argument to higher-order functions (functions that takes in other functions as arguments). They are also used along with built-in functions like map(), filter(), reduce()."
   ]
  },
  {
   "cell_type": "code",
   "execution_count": 1,
   "metadata": {},
   "outputs": [
    {
     "name": "stdout",
     "output_type": "stream",
     "text": [
      "110 120\n"
     ]
    }
   ],
   "source": [
    "f = lambda x : x +10\n",
    "val1 = f(100)\n",
    "val2 = f(110)\n",
    "print(val1,val2) ## 10 added successfully in them"
   ]
  },
  {
   "cell_type": "markdown",
   "metadata": {},
   "source": [
    "## using inside a function"
   ]
  },
  {
   "cell_type": "code",
   "execution_count": 2,
   "metadata": {},
   "outputs": [
    {
     "name": "stdout",
     "output_type": "stream",
     "text": [
      "12\n",
      "18\n"
     ]
    }
   ],
   "source": [
    "def k(n):\n",
    "    return lambda x:x*n\n",
    "\n",
    "doubler = k(2)   ## n==2\n",
    "print(doubler(6))    \n",
    "\n",
    "tripler = k(3)   ## n==3\n",
    "print(tripler(6))"
   ]
  },
  {
   "cell_type": "markdown",
   "metadata": {},
   "source": [
    "## Sorting using lambda function"
   ]
  },
  {
   "cell_type": "code",
   "execution_count": 3,
   "metadata": {},
   "outputs": [
    {
     "name": "stdout",
     "output_type": "stream",
     "text": [
      "[(1, 9), (10, 2), (15, -3), (40, 1)]\n",
      "[(15, -3), (40, 1), (10, 2), (1, 9)]\n",
      "[-1, 1, -2, 2, -3, 3, -4, 4]\n"
     ]
    }
   ],
   "source": [
    "points2D = [(1, 9), (40, 1), (15, -3), (10, 2)]\n",
    "print(sorted(points2D))\n",
    "## by deafult sorting wrto the first entry of the tuple: say x cordinate\n",
    "\n",
    "## now you want to sort the list based on the y cordinate\n",
    "sorted_y_axis = sorted(points2D, key = lambda x: x[1])\n",
    "print(sorted_y_axis)\n",
    "\n",
    "## sorting using absolute value of index\n",
    "mylist = [- 1, -4, -2, -3, 1, 2, 3, 4]\n",
    "\n",
    "print(sorted(mylist,key= lambda x: abs(x)))"
   ]
  },
  {
   "cell_type": "markdown",
   "metadata": {},
   "source": [
    "## MAP and lambda function\n",
    "map(func, seq), transforms each element with the function.\n",
    "\n",
    "https://python-reference.readthedocs.io/en/latest/docs/functions/map.html"
   ]
  },
  {
   "cell_type": "code",
   "execution_count": 4,
   "metadata": {},
   "outputs": [
    {
     "name": "stdout",
     "output_type": "stream",
     "text": [
      "[2, 4, 6]\n"
     ]
    },
    {
     "data": {
      "text/plain": [
       "[2, 4, 6]"
      ]
     },
     "execution_count": 4,
     "metadata": {},
     "output_type": "execute_result"
    }
   ],
   "source": [
    "## map allocates same function to each entry in the array, list....\n",
    "a = [1,2,3]\n",
    "b = list(map(lambda x: x*2,a))\n",
    "print(b)\n",
    "\n",
    "## use map when you predefined function\n",
    "\n",
    "## another way is: use this list type \n",
    "c =[x*2 for x in a]\n",
    "c"
   ]
  },
  {
   "cell_type": "code",
   "execution_count": 12,
   "metadata": {},
   "outputs": [],
   "source": [
    "k = map(None, ['a', 'b'], [1, 2, 3])\n",
    "\n"
   ]
  },
  {
   "cell_type": "markdown",
   "metadata": {},
   "source": [
    "## filter() function\n",
    "filter(func, seq), returns all elements for which func evaluates to True."
   ]
  },
  {
   "cell_type": "code",
   "execution_count": 5,
   "metadata": {},
   "outputs": [
    {
     "name": "stdout",
     "output_type": "stream",
     "text": [
      "[2, 4, 6, 8]\n"
     ]
    }
   ],
   "source": [
    "a = [1,2,3,4,5,6,7,8,9]\n",
    "b = list(filter(lambda x: x%2==0, a))\n",
    "\n",
    "print(b)"
   ]
  },
  {
   "cell_type": "markdown",
   "metadata": {},
   "source": [
    "## Reduce()\n",
    "reduce(func, seq), repeatedly applies the func to the elements and returns a single value.\n",
    "func takes 2 arguments"
   ]
  },
  {
   "cell_type": "code",
   "execution_count": 14,
   "metadata": {},
   "outputs": [
    {
     "name": "stdout",
     "output_type": "stream",
     "text": [
      "24\n",
      "10\n"
     ]
    }
   ],
   "source": [
    "from functools import reduce\n",
    "\n",
    "a = (1,2,3,4) ## can also use [1,2,3,4]\n",
    "b = reduce(lambda x,y: x*y, a)  ## ((1*2)*3)*4\n",
    "print(b)\n",
    "\n",
    "\n",
    "a = (1,2,3,4)\n",
    "b = reduce(lambda x,y: x+y, a)  ## ((1+2)+3)+4\n",
    "print(b)"
   ]
  },
  {
   "cell_type": "code",
   "execution_count": 26,
   "metadata": {},
   "outputs": [
    {
     "name": "stdout",
     "output_type": "stream",
     "text": [
      "3\n",
      "The time of execution of above program is : 0.997ms\n"
     ]
    }
   ],
   "source": [
    "from datetime import datetime\n",
    " \n",
    "# record current timestamp\n",
    "start = datetime.now()\n",
    "k = 8976\n",
    "s = 0\n",
    "while k > 0 and k > 9:\n",
    "    s+= (k%10)\n",
    "    k //= 10\n",
    "\n",
    "    if k<10:\n",
    "        s+=k\n",
    "        k = s\n",
    "        s = 0\n",
    "print(k)       \n",
    "\n",
    "end = datetime.now()\n",
    "\n",
    "td = (end - start).total_seconds() * 10**3\n",
    "print(f\"The time of execution of above program is : {td:.03f}ms\")\n",
    "\n",
    "\n"
   ]
  },
  {
   "cell_type": "code",
   "execution_count": 28,
   "metadata": {},
   "outputs": [
    {
     "name": "stdout",
     "output_type": "stream",
     "text": [
      "3\n",
      "The time of execution of above program is : 0.000ms\n"
     ]
    }
   ],
   "source": [
    "from datetime import datetime\n",
    " \n",
    "# record current timestamp\n",
    "start = datetime.now()\n",
    "k = 8976\n",
    "s = 0\n",
    "while k > 0:\n",
    "    s+= (k%10)\n",
    "    k //= 10\n",
    "\n",
    "print(s%9)       \n",
    "\n",
    "end = datetime.now()\n",
    "\n",
    "td = (end - start).total_seconds() * 10**3\n",
    "print(f\"The time of execution of above program is : {td:.03f}ms\")\n",
    "\n",
    "\n"
   ]
  },
  {
   "cell_type": "code",
   "execution_count": null,
   "metadata": {},
   "outputs": [],
   "source": []
  }
 ],
 "metadata": {
  "kernelspec": {
   "display_name": "Python 3.6.13 ('gputest')",
   "language": "python",
   "name": "python3"
  },
  "language_info": {
   "codemirror_mode": {
    "name": "ipython",
    "version": 3
   },
   "file_extension": ".py",
   "mimetype": "text/x-python",
   "name": "python",
   "nbconvert_exporter": "python",
   "pygments_lexer": "ipython3",
   "version": "3.6.13"
  },
  "orig_nbformat": 4,
  "vscode": {
   "interpreter": {
    "hash": "914c139996f68d185b073981459f96382266ba5f3df925a29404be19a0a7c343"
   }
  }
 },
 "nbformat": 4,
 "nbformat_minor": 2
}
