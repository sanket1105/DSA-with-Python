{
 "cells": [
  {
   "cell_type": "code",
   "execution_count": 6,
   "metadata": {},
   "outputs": [
    {
     "name": "stdout",
     "output_type": "stream",
     "text": [
      "{'shankii': 25, 'Sanket': 22}\n"
     ]
    }
   ],
   "source": [
    "indices={\"shankii\":25}\n",
    "indices.setdefault(\"Sanket\",22)\n",
    "\n",
    "print(indices)"
   ]
  },
  {
   "cell_type": "markdown",
   "metadata": {},
   "source": [
    "## Adding elements in the dictionary"
   ]
  },
  {
   "cell_type": "markdown",
   "metadata": {},
   "source": [
    "## Dictionary\n",
    "\n",
    "it is unordered, changeable and indexed.\n",
    "\n",
    "Can't have two same keys"
   ]
  },
  {
   "cell_type": "code",
   "execution_count": 3,
   "metadata": {},
   "outputs": [
    {
     "name": "stdout",
     "output_type": "stream",
     "text": [
      "dict_values(['Max', 28, 'New York'])\n"
     ]
    }
   ],
   "source": [
    "my_dict = {\"name\":\"Max\", 'Age':28, \"city\":\"New York\"}\n",
    "\n",
    "type(my_dict)\n",
    "print(my_dict.values())"
   ]
  },
  {
   "cell_type": "code",
   "execution_count": 56,
   "metadata": {},
   "outputs": [
    {
     "name": "stdout",
     "output_type": "stream",
     "text": [
      "{'name': 'Sanket', 'age': 22, 'city': 'Nanded'}\n"
     ]
    }
   ],
   "source": [
    "my_dict_2 = dict(name='Sanket',age=22,city=\"Nanded\")\n",
    "print(my_dict_2)"
   ]
  },
  {
   "cell_type": "code",
   "execution_count": 57,
   "metadata": {},
   "outputs": [
    {
     "name": "stdout",
     "output_type": "stream",
     "text": [
      "Sanket\n"
     ]
    },
    {
     "ename": "KeyError",
     "evalue": "'town'",
     "output_type": "error",
     "traceback": [
      "\u001b[1;31m---------------------------------------------------------------------------\u001b[0m",
      "\u001b[1;31mKeyError\u001b[0m                                  Traceback (most recent call last)",
      "\u001b[1;32m<ipython-input-57-7be758236b30>\u001b[0m in \u001b[0;36m<module>\u001b[1;34m\u001b[0m\n\u001b[0;32m      1\u001b[0m \u001b[0mprint\u001b[0m\u001b[1;33m(\u001b[0m\u001b[0mmy_dict_2\u001b[0m\u001b[1;33m[\u001b[0m\u001b[1;34m'name'\u001b[0m\u001b[1;33m]\u001b[0m\u001b[1;33m)\u001b[0m\u001b[1;33m\u001b[0m\u001b[1;33m\u001b[0m\u001b[0m\n\u001b[0;32m      2\u001b[0m \u001b[1;33m\u001b[0m\u001b[0m\n\u001b[1;32m----> 3\u001b[1;33m \u001b[0mprint\u001b[0m\u001b[1;33m(\u001b[0m\u001b[0mmy_dict_2\u001b[0m\u001b[1;33m[\u001b[0m\u001b[1;34m'town'\u001b[0m\u001b[1;33m]\u001b[0m\u001b[1;33m)\u001b[0m  \u001b[1;31m## town key is not there in the dict, so error will come\u001b[0m\u001b[1;33m\u001b[0m\u001b[1;33m\u001b[0m\u001b[0m\n\u001b[0m",
      "\u001b[1;31mKeyError\u001b[0m: 'town'"
     ]
    }
   ],
   "source": [
    "print(my_dict_2['name'])\n",
    "\n",
    "print(my_dict_2['town'])  ## town key is not there in the dict, so error will come"
   ]
  },
  {
   "cell_type": "markdown",
   "metadata": {},
   "source": [
    "## Adding elements in the dictionary\n"
   ]
  },
  {
   "cell_type": "code",
   "execution_count": 58,
   "metadata": {},
   "outputs": [
    {
     "name": "stdout",
     "output_type": "stream",
     "text": [
      "{'name': 'Sanket', 'age': 22, 'city': 'Nanded', 'Country': 'India'}\n"
     ]
    }
   ],
   "source": [
    "my_dict_2['Country']='India'\n",
    "print(my_dict_2)"
   ]
  },
  {
   "cell_type": "code",
   "execution_count": 59,
   "metadata": {},
   "outputs": [
    {
     "name": "stdout",
     "output_type": "stream",
     "text": [
      "{'name': 'Sanket', 'age': 22, 'city': 'Nanded', 'Country': 'USA'}\n"
     ]
    }
   ],
   "source": [
    "## changing the values\n",
    "my_dict_2['Country']='USA'  ## india changed to usa\n",
    "print(my_dict_2)"
   ]
  },
  {
   "cell_type": "markdown",
   "metadata": {},
   "source": [
    "## Delete items"
   ]
  },
  {
   "cell_type": "code",
   "execution_count": 60,
   "metadata": {},
   "outputs": [
    {
     "name": "stdout",
     "output_type": "stream",
     "text": [
      "{'name': 'Sanket', 'age': 22, 'city': 'Nanded'}\n",
      "{'name': 'Sanket', 'age': 22}\n"
     ]
    }
   ],
   "source": [
    "del my_dict_2['Country']\n",
    "print(my_dict_2)\n",
    "\n",
    "## pop value\n",
    "my_dict_2.pop('city')  ## popping the key : city\n",
    "print(my_dict_2)\n",
    "\n"
   ]
  },
  {
   "cell_type": "code",
   "execution_count": 65,
   "metadata": {},
   "outputs": [
    {
     "name": "stdout",
     "output_type": "stream",
     "text": [
      "{'name': 'Sanket', 'age': 22, 'city': 'Nanded', 'Country': 'India'}\n"
     ]
    }
   ],
   "source": [
    "my_dict_2 = {'name': 'Sanket', 'age': 22, 'city': 'Nanded', 'Country': 'India'}\n",
    "print(my_dict_2)"
   ]
  },
  {
   "cell_type": "code",
   "execution_count": 66,
   "metadata": {},
   "outputs": [
    {
     "name": "stdout",
     "output_type": "stream",
     "text": [
      "popped item:  ('Country', 'India')\n",
      "{'name': 'Sanket', 'age': 22, 'city': 'Nanded'}\n"
     ]
    }
   ],
   "source": [
    "print(\"popped item: \", my_dict_2.popitem())\n",
    "\n",
    "print(my_dict_2)\n",
    "\n",
    "## pops the last key value pair"
   ]
  },
  {
   "cell_type": "markdown",
   "metadata": {},
   "source": [
    "## Check for keys"
   ]
  },
  {
   "cell_type": "code",
   "execution_count": 71,
   "metadata": {},
   "outputs": [
    {
     "name": "stdout",
     "output_type": "stream",
     "text": [
      "Max\n"
     ]
    }
   ],
   "source": [
    "my_dict = {\"name\":\"Max\", \"age\":28, \"city\":\"New York\"}\n",
    "\n",
    "if 'name' in my_dict:\n",
    "    print(my_dict['name'])\n",
    "else: print(\" no such key exist\")    "
   ]
  },
  {
   "cell_type": "code",
   "execution_count": 72,
   "metadata": {},
   "outputs": [
    {
     "name": "stdout",
     "output_type": "stream",
     "text": [
      "no such key exists in the dictionary\n"
     ]
    }
   ],
   "source": [
    "my_dict = {\"name\":\"Max\", \"age\":28, \"city\":\"New York\"}\n",
    "\n",
    "try:\n",
    "    print(my_dict['town_hall'])\n",
    "except:\n",
    "    print(\"no such key exists in the dictionary\")    "
   ]
  },
  {
   "cell_type": "markdown",
   "metadata": {},
   "source": [
    "## Looping in the dictionary"
   ]
  },
  {
   "cell_type": "code",
   "execution_count": 73,
   "metadata": {},
   "outputs": [
    {
     "name": "stdout",
     "output_type": "stream",
     "text": [
      "dict_keys(['name', 'age', 'city'])\n",
      "dict_values(['Max', 28, 'New York'])\n",
      "dict_items([('name', 'Max'), ('age', 28), ('city', 'New York')])\n"
     ]
    }
   ],
   "source": [
    "print(my_dict.keys())\n",
    "print(my_dict.values())\n",
    "print(my_dict.items())"
   ]
  },
  {
   "cell_type": "code",
   "execution_count": 74,
   "metadata": {},
   "outputs": [
    {
     "name": "stdout",
     "output_type": "stream",
     "text": [
      "Max\n",
      "28\n",
      "New York\n"
     ]
    }
   ],
   "source": [
    "for i in my_dict:  ## here i will be the keys of the dict\n",
    "    print(my_dict[i])"
   ]
  },
  {
   "cell_type": "code",
   "execution_count": 77,
   "metadata": {},
   "outputs": [
    {
     "name": "stdout",
     "output_type": "stream",
     "text": [
      "name Max\n",
      "age 28\n",
      "city New York\n"
     ]
    }
   ],
   "source": [
    "for key,value in my_dict.items():\n",
    "    print(key,value)"
   ]
  },
  {
   "cell_type": "markdown",
   "metadata": {},
   "source": [
    "## Copying a dictionary"
   ]
  },
  {
   "cell_type": "code",
   "execution_count": 78,
   "metadata": {},
   "outputs": [
    {
     "name": "stdout",
     "output_type": "stream",
     "text": [
      "{'name': 'Max', 'age': 28, 'city': 'New York'}\n",
      "{'name': 'Verstappen', 'age': 28, 'city': 'New York'}\n",
      "{'name': 'Verstappen', 'age': 28, 'city': 'New York'}\n"
     ]
    }
   ],
   "source": [
    "dict_org = {\"name\":\"Max\", \"age\":28, \"city\":\"New York\"}\n",
    "\n",
    "dict_copy = dict_org\n",
    "\n",
    "print(dict_copy)\n",
    "\n",
    "dict_org['name'] = 'Verstappen'\n",
    "\n",
    "print(dict_org)\n",
    "print(dict_copy)\n",
    "\n",
    "\n",
    "## since you just made 2 dict equal and not used the .copy assignment\n",
    "## the changes made in second dict got automatically reflected in the dict 1"
   ]
  },
  {
   "cell_type": "code",
   "execution_count": 79,
   "metadata": {},
   "outputs": [
    {
     "name": "stdout",
     "output_type": "stream",
     "text": [
      "original :  {'name': 'Verstappen', 'age': 28, 'city': 'New York'}\n",
      "copied :  {'name': ' Jos verstappen', 'age': 28, 'city': 'New York'}\n"
     ]
    }
   ],
   "source": [
    "dict_copy = dict_org.copy()\n",
    "dict_copy['name']= ' Jos verstappen'\n",
    "print(\"original : \",dict_org)\n",
    "print(\"copied : \", dict_copy)\n",
    "\n",
    "## changes made in te copied one are not reflected in the original one"
   ]
  },
  {
   "cell_type": "markdown",
   "metadata": {},
   "source": [
    "# Merging 2 dictionaries"
   ]
  },
  {
   "cell_type": "code",
   "execution_count": 80,
   "metadata": {},
   "outputs": [
    {
     "name": "stdout",
     "output_type": "stream",
     "text": [
      "{'name': 'Shankii', 'city': 'NED', 'age': 23, 'country': 'India'}\n"
     ]
    }
   ],
   "source": [
    "dict_1 = dict(name='Sanket', city='Nanded', age=23)\n",
    "dict_2  =dict(name='Shankii',country='India',city='NED')\n",
    "\n",
    "dict_1.update(dict_2)  ## sanket got change to shankii, Nanded to NED\n",
    "print(dict_1)\n",
    "\n",
    "# Use the update() method to merge 2 dicts\n",
    "# existing keys are overwritten, new keys are added"
   ]
  },
  {
   "cell_type": "markdown",
   "metadata": {},
   "source": [
    "## Possible key types"
   ]
  },
  {
   "cell_type": "code",
   "execution_count": 82,
   "metadata": {},
   "outputs": [
    {
     "name": "stdout",
     "output_type": "stream",
     "text": [
      "9 36 81\n",
      "{(8, 7): 15}\n",
      "15\n"
     ]
    }
   ],
   "source": [
    "# use numbers as key, but be careful\n",
    "my_dict = {3: 9, 6: 36, 9:81}\n",
    "# do not mistake the keys as indices of a list, e.g my_dict[0] is not possible here\n",
    "print(my_dict[3], my_dict[6], my_dict[9])\n",
    "\n",
    "# use a tuple with immutable elements (e.g. number, string)\n",
    "my_tuple = (8, 7)\n",
    "my_dict = {my_tuple: 15}\n",
    "\n",
    "print(my_dict)\n",
    "print(my_dict[my_tuple])\n",
    "# print(my_dict[8, 7])\n",
    "\n",
    "# a list is not possible because it is not immutable\n",
    "# this will raise an Error:\n",
    "# my_list = [8, 7]\n",
    "# my_dict = {my_list: 15}"
   ]
  },
  {
   "cell_type": "code",
   "execution_count": null,
   "metadata": {},
   "outputs": [],
   "source": [
    "print(my_dict)"
   ]
  },
  {
   "cell_type": "code",
   "execution_count": 83,
   "metadata": {},
   "outputs": [
    {
     "name": "stdout",
     "output_type": "stream",
     "text": [
      "{'dictA': {'name': 'Max', 'age': 28}, 'dictB': {'name': 'Alex', 'age': 25}}\n",
      "Max\n"
     ]
    }
   ],
   "source": [
    "my_dict_1 = {\"name\": \"Max\", \"age\": 28}\n",
    "my_dict_2 = {\"name\": \"Alex\", \"age\": 25}\n",
    "nested_dict = {\"dictA\": my_dict_1,\n",
    "               \"dictB\": my_dict_2}\n",
    "               \n",
    "print(nested_dict)\n",
    "\n",
    "print(nested_dict['dictA']['name'])   ## gives output as MAX"
   ]
  },
  {
   "cell_type": "markdown",
   "metadata": {},
   "source": [
    "## Playing with dictionary"
   ]
  },
  {
   "cell_type": "code",
   "execution_count": 84,
   "metadata": {},
   "outputs": [
    {
     "ename": "SyntaxError",
     "evalue": "keyword argument repeated (<ipython-input-84-ab23e25e1da4>, line 1)",
     "output_type": "error",
     "traceback": [
      "\u001b[1;36m  File \u001b[1;32m\"<ipython-input-84-ab23e25e1da4>\"\u001b[1;36m, line \u001b[1;32m1\u001b[0m\n\u001b[1;33m    dict1 = dict(name='Sanket',name='Verstappen')\u001b[0m\n\u001b[1;37m                              ^\u001b[0m\n\u001b[1;31mSyntaxError\u001b[0m\u001b[1;31m:\u001b[0m keyword argument repeated\n"
     ]
    }
   ],
   "source": [
    "dict1 = dict(name='Sanket',name='Verstappen')\n",
    "print(dict1)\n",
    "\n",
    "## cannot repeat the same keyword in the dictionary"
   ]
  },
  {
   "cell_type": "code",
   "execution_count": 85,
   "metadata": {},
   "outputs": [
    {
     "name": "stdout",
     "output_type": "stream",
     "text": [
      "No such key in the dictionary\n",
      "Sanket\n"
     ]
    }
   ],
   "source": [
    "dict1 = dict(name='Sanket',surname='Verstappen')\n",
    "\n",
    "print(dict1.get('Town','No such key in the dictionary'))\n",
    "\n",
    "print(dict1.get('name'))"
   ]
  },
  {
   "cell_type": "code",
   "execution_count": 7,
   "metadata": {},
   "outputs": [
    {
     "data": {
      "text/plain": [
       "{1: 5, 2: 6}"
      ]
     },
     "execution_count": 7,
     "metadata": {},
     "output_type": "execute_result"
    }
   ],
   "source": [
    "k = {2:6,1:5}\n",
    "dict(sorted(k.items()))"
   ]
  },
  {
   "cell_type": "code",
   "execution_count": 8,
   "metadata": {},
   "outputs": [
    {
     "name": "stdout",
     "output_type": "stream",
     "text": [
      "0 2 4 "
     ]
    }
   ],
   "source": [
    "for i in range(0,6,2):\n",
    "    print(i,end=\" \")"
   ]
  },
  {
   "cell_type": "code",
   "execution_count": null,
   "metadata": {},
   "outputs": [],
   "source": []
  }
 ],
 "metadata": {
  "interpreter": {
   "hash": "6b6e8e5f654a8e9bb9e69623dd15cf09cd0bf1a8f120d3fdbf2d2c9cdde81e19"
  },
  "kernelspec": {
   "display_name": "Python 3.6.13 64-bit ('gpu': conda)",
   "language": "python",
   "name": "python3"
  },
  "language_info": {
   "codemirror_mode": {
    "name": "ipython",
    "version": 3
   },
   "file_extension": ".py",
   "mimetype": "text/x-python",
   "name": "python",
   "nbconvert_exporter": "python",
   "pygments_lexer": "ipython3",
   "version": "3.6.13"
  },
  "orig_nbformat": 4
 },
 "nbformat": 4,
 "nbformat_minor": 2
}
