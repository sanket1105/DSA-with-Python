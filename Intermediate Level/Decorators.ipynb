{
 "cells": [
  {
   "cell_type": "markdown",
   "metadata": {},
   "source": [
    "## Decorators\n",
    "A decorator is a function that takes another function and extends the behavior of this function without explicitly modifying it. It is a very powerful tool that allows to add new functionality to an existing function.\n",
    "There are 2 kinds of decorators:\n",
    "\n",
    "->Function decoratos\n",
    "\n",
    "-> Class decorators\n",
    "\n",
    "A function is decorated with the @ symbol:\n",
    "\n",
    "\n",
    "    \n",
    "Function decorators\n",
    "In order to understand the decorator pattern, we have to understand that functions in Python are first class objects, which means that – like any other object – they can be defined inside another function, passed as argument to another function, or returned from other functions. A decorator is a function that takes another function as argument, wraps its behaviour inside an inner function. and returns the wrapped function. As a consequence, the decorated function no has extended functionality!"
   ]
  },
  {
   "cell_type": "markdown",
   "metadata": {},
   "source": [
    "## important example"
   ]
  },
  {
   "cell_type": "code",
   "execution_count": 2,
   "metadata": {},
   "outputs": [
    {
     "name": "stdout",
     "output_type": "stream",
     "text": [
      "HELLO\n",
      "HELLO\n"
     ]
    }
   ],
   "source": [
    "# Python program to illustrate functions\n",
    "# can be treated as objects\n",
    "def shout(text):\n",
    "\treturn text.upper()\n",
    "\n",
    "print(shout('Hello'))\n",
    "\n",
    "yell = shout\n",
    "\n",
    "print(yell('Hello'))\n"
   ]
  },
  {
   "cell_type": "code",
   "execution_count": 26,
   "metadata": {},
   "outputs": [
    {
     "name": "stdout",
     "output_type": "stream",
     "text": [
      "25\n"
     ]
    }
   ],
   "source": [
    "# Python program to illustrate functions\n",
    "# Functions can return another function\n",
    "\n",
    "def create_adder(x):\n",
    "\tdef adder(y):\n",
    "\t\treturn x+y\n",
    "\n",
    "\treturn adder\n",
    "\n",
    "add_15 = create_adder(15)\n",
    "\n",
    "print(add_15(10))\n",
    "\n",
    "## In the above example,\n",
    "#  we have created a function inside of another function and then have returned the function created insid\n"
   ]
  },
  {
   "cell_type": "code",
   "execution_count": 13,
   "metadata": {},
   "outputs": [
    {
     "name": "stdout",
     "output_type": "stream",
     "text": [
      "Sanket\n",
      "start\n",
      "Sanket\n",
      "end\n"
     ]
    }
   ],
   "source": [
    "# A decorator function takes another function as argument, wraps its behaviour inside\n",
    "# an inner function, and returns the wrapped function.\n",
    "\n",
    "## decorator function\n",
    "\n",
    "def start_end_decorator(func):\n",
    "\n",
    "    def wrapper():\n",
    "        print(\"start\")\n",
    "        func()\n",
    "        print(\"end\")\n",
    "        \n",
    "    return wrapper\n",
    "\n",
    "def print_name():\n",
    "    print(\"Sanket\")\n",
    "\n",
    "print_name()\n",
    "\n",
    "## now using the decorator to extend the function behaviour\n",
    "print_name = start_end_decorator(print_name)\n",
    "print_name()          "
   ]
  },
  {
   "cell_type": "markdown",
   "metadata": {},
   "source": [
    "## The decorator syntax\n",
    "Instead of wrapping our function and asigning it to itself, we can achieve the same thing simply by decorating our function with an @."
   ]
  },
  {
   "cell_type": "code",
   "execution_count": 6,
   "metadata": {},
   "outputs": [
    {
     "name": "stdout",
     "output_type": "stream",
     "text": [
      "start\n",
      "Zanwar\n",
      "end\n"
     ]
    }
   ],
   "source": [
    "@start_end_decorator\n",
    "def print_name():\n",
    "    print(\"Zanwar\")\n",
    "\n",
    "print_name()    "
   ]
  },
  {
   "cell_type": "code",
   "execution_count": 14,
   "metadata": {},
   "outputs": [
    {
     "name": "stdout",
     "output_type": "stream",
     "text": [
      "start\n",
      "10\n",
      "end\n",
      "None\n"
     ]
    }
   ],
   "source": [
    "## if the inner function has many arguments then\n",
    "\n",
    "def start_end_decorator2(func):\n",
    "    def wrapper(*args, **kwargs):\n",
    "        print(\"start\")\n",
    "        func(*args, **kwargs)\n",
    "        print(\"end\")\n",
    "    return wrapper\n",
    "\n",
    "@start_end_decorator2\n",
    "def add_10(x):\n",
    "    return x+5    \n",
    "\n",
    "result = add_10(5)\n",
    "print(result)\n",
    "\n",
    "\n",
    "## in this case we are not getting out result back"
   ]
  },
  {
   "cell_type": "code",
   "execution_count": 18,
   "metadata": {},
   "outputs": [
    {
     "name": "stdout",
     "output_type": "stream",
     "text": [
      "start\n",
      "end\n",
      "10\n",
      "wrapper\n",
      "Help on function wrapper in module __main__:\n",
      "\n",
      "wrapper(*args, **kwargs)\n",
      "\n"
     ]
    }
   ],
   "source": [
    "## if the inner function has many arguments then\n",
    "\n",
    "def start_end_decorator2(func):\n",
    "    def wrapper(*args, **kwargs):\n",
    "        print(\"start\")\n",
    "        result = func(*args, **kwargs)\n",
    "        print(\"end\")\n",
    "        return result\n",
    "    return wrapper\n",
    "\n",
    "@start_end_decorator2\n",
    "def add_10(x):\n",
    "    return x+5    \n",
    "\n",
    "result = add_10(5)\n",
    "print(result)\n",
    "\n",
    "\n",
    "## lets see the type of function\n",
    "print(add_10.__name__)\n",
    "help(add_10)\n",
    "## it became of type wrapper function"
   ]
  },
  {
   "cell_type": "code",
   "execution_count": 21,
   "metadata": {},
   "outputs": [
    {
     "name": "stdout",
     "output_type": "stream",
     "text": [
      "start\n",
      "end\n",
      "10\n",
      "add_10\n",
      "Help on function add_10 in module __main__:\n",
      "\n",
      "add_10(x)\n",
      "\n"
     ]
    }
   ],
   "source": [
    "## we want the function still of main type\n",
    "## so for that use functools.wraps\n",
    "\n",
    "## if the inner function has many arguments then\n",
    "\n",
    "\n",
    "import functools\n",
    "\n",
    "def start_end_decorator2(func):\n",
    "\n",
    "    @functools.wraps(func)\n",
    "\n",
    "    def wrapper(*args, **kwargs):\n",
    "        print(\"start\")\n",
    "        result = func(*args, **kwargs)\n",
    "        print(\"end\")\n",
    "        return result\n",
    "    return wrapper\n",
    "\n",
    "@start_end_decorator2\n",
    "def add_10(x):\n",
    "    return x+5    \n",
    "\n",
    "result = add_10(5)\n",
    "print(result)\n",
    "\n",
    "\n",
    "## lets see the type of function\n",
    "print(add_10.__name__)\n",
    "help(add_10)\n",
    "## it became of type wrapper function"
   ]
  },
  {
   "cell_type": "markdown",
   "metadata": {},
   "source": [
    "## Template of decorator function"
   ]
  },
  {
   "cell_type": "code",
   "execution_count": 20,
   "metadata": {},
   "outputs": [],
   "source": [
    "import functools\n",
    "\n",
    "def my_decorator(func):\n",
    "    @functools.wraps(func)\n",
    "    def wrapper(*args, **kwargs):\n",
    "        ## Do something here \n",
    "        result = func(*args, **kwargs)\n",
    "        ## do something here\n",
    "        return result\n",
    "    return wrapper    "
   ]
  },
  {
   "cell_type": "code",
   "execution_count": null,
   "metadata": {},
   "outputs": [],
   "source": []
  }
 ],
 "metadata": {
  "interpreter": {
   "hash": "6b6e8e5f654a8e9bb9e69623dd15cf09cd0bf1a8f120d3fdbf2d2c9cdde81e19"
  },
  "kernelspec": {
   "display_name": "Python 3.6.13 64-bit ('gpu': conda)",
   "language": "python",
   "name": "python3"
  },
  "language_info": {
   "codemirror_mode": {
    "name": "ipython",
    "version": 3
   },
   "file_extension": ".py",
   "mimetype": "text/x-python",
   "name": "python",
   "nbconvert_exporter": "python",
   "pygments_lexer": "ipython3",
   "version": "3.6.13"
  },
  "orig_nbformat": 4
 },
 "nbformat": 4,
 "nbformat_minor": 2
}
